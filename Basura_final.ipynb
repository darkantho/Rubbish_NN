{
  "nbformat": 4,
  "nbformat_minor": 0,
  "metadata": {
    "colab": {
      "name": "Basura_final.ipynb",
      "provenance": [],
      "mount_file_id": "1Y90CEjLeiO0YzTzCfss9e6tncgoMFl1t",
      "authorship_tag": "ABX9TyPGlJ2ZJ3j9DxXimqRi/m9y"
    },
    "kernelspec": {
      "name": "python3",
      "display_name": "Python 3"
    },
    "accelerator": "GPU"
  },
  "cells": [
    {
      "cell_type": "code",
      "metadata": {
        "id": "LbeC9q69oOeo",
        "colab": {
          "base_uri": "https://localhost:8080/",
          "height": 34
        },
        "outputId": "422d3fe3-5f6d-4ddc-e1e3-3f40c8373cad"
      },
      "source": [
        "import tensorflow as tf\n",
        "import os\n",
        "import h5py\n",
        "from PIL import Image\n",
        "import numpy as np\n",
        "from keras.utils import np_utils\n",
        "from skimage import io\n",
        "from keras.preprocessing.image import ImageDataGenerator,array_to_img,img_to_array,load_img\n",
        "import random,os,glob\n",
        "from keras.layers.experimental.preprocessing import Rescaling\n",
        "from tensorflow.data.experimental import AUTOTUNE\n",
        "\n",
        "print(tf.__version__)"
      ],
      "execution_count": null,
      "outputs": [
        {
          "output_type": "stream",
          "text": [
            "2.3.0\n"
          ],
          "name": "stdout"
        }
      ]
    },
    {
      "cell_type": "code",
      "metadata": {
        "id": "ZrA1E41Ao38D",
        "colab": {
          "base_uri": "https://localhost:8080/",
          "height": 119
        },
        "outputId": "a9590e3e-aa4c-469d-a93d-b0f2c4a16963"
      },
      "source": [
        "#dir_f='../content/drive/My Drive/basura/batch/train'\n",
        "dir_f='../content/drive/My Drive/basura/batch/clasificacion_basura'\n",
        "\n",
        "train_ds = tf.keras.preprocessing.image_dataset_from_directory(\n",
        "  dir_f,\n",
        "  validation_split=0.2,\n",
        "  subset=\"training\",\n",
        "  seed=25,\n",
        "  image_size=(200,200),\n",
        "  batch_size=32)\n",
        "\n",
        "print(\"\\n\")\n",
        "\n",
        "val_ds = tf.keras.preprocessing.image_dataset_from_directory(\n",
        "  dir_f,\n",
        "  validation_split=0.2,\n",
        "  subset=\"validation\",\n",
        "  seed=25,\n",
        "  image_size=(200,200),\n",
        "  batch_size=32)"
      ],
      "execution_count": null,
      "outputs": [
        {
          "output_type": "stream",
          "text": [
            "Found 2400 files belonging to 6 classes.\n",
            "Using 1920 files for training.\n",
            "\n",
            "\n",
            "Found 2400 files belonging to 6 classes.\n",
            "Using 480 files for validation.\n"
          ],
          "name": "stdout"
        }
      ]
    },
    {
      "cell_type": "code",
      "metadata": {
        "id": "b4YRNugvrGIH",
        "colab": {
          "base_uri": "https://localhost:8080/",
          "height": 34
        },
        "outputId": "8734b7ca-a588-48aa-d0a3-ec44bbb9fad8"
      },
      "source": [
        "class_names = train_ds.class_names\n",
        "print(class_names)"
      ],
      "execution_count": null,
      "outputs": [
        {
          "output_type": "stream",
          "text": [
            "['cardboard', 'glass', 'metal', 'paper', 'plastic', 'trash']\n"
          ],
          "name": "stdout"
        }
      ]
    },
    {
      "cell_type": "code",
      "metadata": {
        "id": "hg6yX7i9rPlD"
      },
      "source": [
        "# for image_batch, labels_batch in train_ds:\n",
        "#   print(image_batch.shape)\n",
        "#   print(labels_batch.shape)\n",
        "#   break"
      ],
      "execution_count": null,
      "outputs": []
    },
    {
      "cell_type": "code",
      "metadata": {
        "id": "kseTpNdRs4LD"
      },
      "source": [
        "\n",
        "normalization_layer=Rescaling(1./255)\n",
        "\n",
        "normalized_ds = train_ds.map(lambda x, y: (normalization_layer(x), y))\n",
        "image_batch, labels_batch = next(iter(normalized_ds))\n"
      ],
      "execution_count": null,
      "outputs": []
    },
    {
      "cell_type": "code",
      "metadata": {
        "id": "Bu6qXB23tGiO"
      },
      "source": [
        "train_ds = train_ds.cache().prefetch(buffer_size=AUTOTUNE)\n",
        "val_ds = val_ds.cache().prefetch(buffer_size=AUTOTUNE)"
      ],
      "execution_count": null,
      "outputs": []
    },
    {
      "cell_type": "code",
      "metadata": {
        "id": "XwGpXrAAttGN"
      },
      "source": [
        "def model_level():\n",
        "    model=tf.keras.models.Sequential()\n",
        "    # model.add(tf.keras.layers.Conv2D(128,(5,5), input_shape=(384,512,3), activation=\"relu\",data_format='channels_last'))\n",
        "    # model.add(tf.keras.layers.MaxPooling2D())\n",
        "    # model.add(tf.keras.layers.Conv2D(64,(3,3), activation=\"relu\"))\n",
        "    # model.add(tf.keras.layers.Conv2D(32,(3,3), activation=\"relu\"))\n",
        "    # model.add(tf.keras.layers.Conv2D(16,(3,2), activation=\"relu\"))\n",
        "    # model.add(tf.keras.layers.MaxPooling2D())\n",
        "    # model.add(tf.keras.layers.Conv2D(64,(3,3), activation='relu'))\n",
        "    # model.add(tf.keras.layers.Conv2D(32,(3,3), activation='relu'))\n",
        "    # model.add(tf.keras.layers.MaxPooling2D())\n",
        "    # model.add(tf.keras.layers.Flatten())\n",
        "    # model.add(tf.keras.layers.Dense(75,activation=\"relu\"))\n",
        "    # model.add(tf.keras.layers.Dropout(rate=0.2))\n",
        "    # model.add(tf.keras.layers.Dense(25,activation=\"relu\"))\n",
        "    # model.add(tf.keras.layers.Dropout(rate=0.5))\n",
        "    # model.add(tf.keras.layers.Dense(clase,activation='softmax'))\n",
        "    model.add(tf.keras.layers.Conv2D(64,(4,4),input_shape=(200,200,3),activation='relu'))\n",
        "    model.add(tf.keras.layers.MaxPooling2D(pool_size=2)) \n",
        "    model.add(tf.keras.layers.Conv2D(64,(3,3),activation='relu')) \n",
        "    model.add(tf.keras.layers.MaxPooling2D(pool_size=2))\n",
        "    model.add(tf.keras.layers.Conv2D(32,(3,3),activation='relu')) \n",
        "    model.add(tf.keras.layers.MaxPooling2D(pool_size=2))\n",
        "    model.add(tf.keras.layers.Flatten())\n",
        "    model.add(tf.keras.layers.Dense(64,activation='relu'))\n",
        "    model.add(tf.keras.layers.Dropout(rate=0.3))\n",
        "    model.add(tf.keras.layers.Dense(32,activation='relu'))\n",
        "    model.add(tf.keras.layers.Dropout(rate=0.15))\n",
        "    model.add(tf.keras.layers.Dense(6))\n",
        "    return model\n",
        "\n",
        "\n",
        "filepath=\"/content/drive/My Drive/basura/modelo_reciente_12000/model_best.h5\"\n",
        "checkpoint1 = tf.keras.callbacks.ModelCheckpoint(filepath, monitor='val_acc', verbose=0, save_best_only=True, mode='max')\n",
        "callbacks_list = [checkpoint1]\n",
        "\n",
        "\n",
        "\n",
        "filepath2=\"/content/drive/My Drive/basura/mode_2400/model_best.h5\"\n",
        "checkpoint2 = tf.keras.callbacks.ModelCheckpoint(filepath2, monitor='val_acc', verbose=0, save_best_only=True, mode='max')\n",
        "callbacks_list2= [checkpoint2]\n"
      ],
      "execution_count": null,
      "outputs": []
    },
    {
      "cell_type": "code",
      "metadata": {
        "id": "7nkRvt56tnBP"
      },
      "source": [
        "import matplotlib.pyplot as plt\n",
        "# from keras.backend.tensorflow_backend import set_session\n",
        "config = tf.compat.v1.ConfigProto()\n",
        "# config=tf.ConfigProto()\n",
        "config.gpu_options.allow_growth = True\n",
        "model=model_level()\n",
        "\n"
      ],
      "execution_count": null,
      "outputs": []
    },
    {
      "cell_type": "code",
      "metadata": {
        "id": "_NccjxkAuS38",
        "colab": {
          "base_uri": "https://localhost:8080/",
          "height": 1000
        },
        "outputId": "5d5551d7-e77b-4276-ab10-cd1e681ebe19"
      },
      "source": [
        "with tf.device('/device:GPU:0'):\n",
        "    #opt = tf.keras.optimizers.Adam(learning_rate=0.001)\n",
        "    #model.compile(loss='categorical_crossentropy', optimizer=\"adam\", metrics=['acc'])\n",
        "    model.compile(optimizer='adam',loss=tf.losses.SparseCategoricalCrossentropy(from_logits=True),metrics=['accuracy'])\n",
        "    # history=model.fit(X_train,Y_train,validation_data=(X_test,Y_test), batch_size=130, epochs=40,verbose=1,callbacks=callbacks_list)\n",
        "    # history=model.fit_generator(trained_data,steps_per_epoch=len(X_train)//32,validation_data=test_data,validation_steps=550//32,epochs=50,verbose=1)\n",
        "    # history=model.fit(train_generator,\n",
        "    #                              epochs=40,\n",
        "    #                              steps_per_epoch=(len(img_list)*(1-spit_data))//32,\n",
        "    #                              validation_data=test_generator,\n",
        "    #                              validation_steps=(len(img_list)*(spit_data))//32,\n",
        "    #                              callbacks=callbacks_list) \n",
        "    history=model.fit(train_ds,validation_data=val_ds,epochs=40)\n",
        "    # history=model.fit_generator(train_generator,\n",
        "    #                              epochs=40,\n",
        "    #                              steps_per_epoch=(len(img_list)*(1-spit_data))//32,\n",
        "    #                              validation_data=test_generator,\n",
        "    #                              validation_steps=(len(img_list)*(spit_data))//32,\n",
        "    #                              workers = 4,\n",
        "    #                              callbacks=callbacks_list) \n",
        "    # scores = model.evaluate(X_test,Y_test,verbose=1,batch_size=30)\n",
        "    # print(\"Large CNN Error: {0:.4f}% accuracy:{1:.4f}%\".format((100-scores[1] * 100),scores[1]*100))\n",
        "\n",
        "    model_json = model.to_json()\n",
        "    with open(\"/content/drive/My Drive/basura/modelo_reciente_12000/model_t.json\",\"w\") as json_file:\n",
        "        json_file.write(model_json)\n",
        "    model.save_weights('/content/drive/My Drive/basura/modelo_reciente_12000/model_last.h5')\n"
      ],
      "execution_count": null,
      "outputs": [
        {
          "output_type": "stream",
          "text": [
            "Epoch 1/40\n",
            "60/60 [==============================] - 1350s 22s/step - loss: 6.4448 - accuracy: 0.1979 - val_loss: 1.7933 - val_accuracy: 0.1562\n",
            "Epoch 2/40\n",
            "60/60 [==============================] - 3s 49ms/step - loss: 1.7423 - accuracy: 0.2578 - val_loss: 1.7580 - val_accuracy: 0.2250\n",
            "Epoch 3/40\n",
            "60/60 [==============================] - 3s 48ms/step - loss: 1.6880 - accuracy: 0.3010 - val_loss: 1.7643 - val_accuracy: 0.2271\n",
            "Epoch 4/40\n",
            "60/60 [==============================] - 3s 48ms/step - loss: 1.6412 - accuracy: 0.3203 - val_loss: 1.7825 - val_accuracy: 0.2083\n",
            "Epoch 5/40\n",
            "60/60 [==============================] - 3s 48ms/step - loss: 1.5410 - accuracy: 0.3786 - val_loss: 1.9127 - val_accuracy: 0.2375\n",
            "Epoch 6/40\n",
            "60/60 [==============================] - 3s 48ms/step - loss: 1.4346 - accuracy: 0.4266 - val_loss: 1.8629 - val_accuracy: 0.2021\n",
            "Epoch 7/40\n",
            "60/60 [==============================] - 3s 48ms/step - loss: 1.4028 - accuracy: 0.4563 - val_loss: 1.9813 - val_accuracy: 0.2167\n",
            "Epoch 8/40\n",
            "60/60 [==============================] - 3s 49ms/step - loss: 1.4447 - accuracy: 0.4385 - val_loss: 1.8584 - val_accuracy: 0.2146\n",
            "Epoch 9/40\n",
            "60/60 [==============================] - 3s 49ms/step - loss: 1.4511 - accuracy: 0.4443 - val_loss: 1.8094 - val_accuracy: 0.1854\n",
            "Epoch 10/40\n",
            "60/60 [==============================] - 3s 49ms/step - loss: 1.3556 - accuracy: 0.4724 - val_loss: 1.8952 - val_accuracy: 0.2146\n",
            "Epoch 11/40\n",
            "60/60 [==============================] - 3s 49ms/step - loss: 1.4517 - accuracy: 0.4417 - val_loss: 1.9999 - val_accuracy: 0.2250\n",
            "Epoch 12/40\n",
            "60/60 [==============================] - 3s 49ms/step - loss: 1.3276 - accuracy: 0.4812 - val_loss: 1.9945 - val_accuracy: 0.2583\n",
            "Epoch 13/40\n",
            "60/60 [==============================] - 3s 49ms/step - loss: 1.2136 - accuracy: 0.5182 - val_loss: 2.1691 - val_accuracy: 0.2313\n",
            "Epoch 14/40\n",
            "60/60 [==============================] - 3s 49ms/step - loss: 1.1967 - accuracy: 0.5359 - val_loss: 2.1551 - val_accuracy: 0.2521\n",
            "Epoch 15/40\n",
            "60/60 [==============================] - 3s 49ms/step - loss: 1.1408 - accuracy: 0.5724 - val_loss: 2.3958 - val_accuracy: 0.2146\n",
            "Epoch 16/40\n",
            "60/60 [==============================] - 3s 49ms/step - loss: 1.1732 - accuracy: 0.5453 - val_loss: 2.4762 - val_accuracy: 0.2458\n",
            "Epoch 17/40\n",
            "60/60 [==============================] - 3s 49ms/step - loss: 1.0955 - accuracy: 0.5719 - val_loss: 2.4669 - val_accuracy: 0.2438\n",
            "Epoch 18/40\n",
            "60/60 [==============================] - 3s 49ms/step - loss: 1.0579 - accuracy: 0.6078 - val_loss: 2.5428 - val_accuracy: 0.2521\n",
            "Epoch 19/40\n",
            "60/60 [==============================] - 3s 49ms/step - loss: 1.1077 - accuracy: 0.5833 - val_loss: 2.4945 - val_accuracy: 0.2396\n",
            "Epoch 20/40\n",
            "60/60 [==============================] - 3s 48ms/step - loss: 0.9708 - accuracy: 0.6214 - val_loss: 2.5954 - val_accuracy: 0.2417\n",
            "Epoch 21/40\n",
            "60/60 [==============================] - 3s 49ms/step - loss: 0.9275 - accuracy: 0.6599 - val_loss: 2.7804 - val_accuracy: 0.2604\n",
            "Epoch 22/40\n",
            "60/60 [==============================] - 3s 48ms/step - loss: 0.9260 - accuracy: 0.6521 - val_loss: 2.6598 - val_accuracy: 0.2604\n",
            "Epoch 23/40\n",
            "60/60 [==============================] - 3s 48ms/step - loss: 0.8609 - accuracy: 0.6651 - val_loss: 2.7483 - val_accuracy: 0.2417\n",
            "Epoch 24/40\n",
            "60/60 [==============================] - 3s 48ms/step - loss: 0.8364 - accuracy: 0.6844 - val_loss: 2.7194 - val_accuracy: 0.2375\n",
            "Epoch 25/40\n",
            "60/60 [==============================] - 3s 48ms/step - loss: 0.8263 - accuracy: 0.6859 - val_loss: 2.8717 - val_accuracy: 0.2792\n",
            "Epoch 26/40\n",
            "60/60 [==============================] - 3s 48ms/step - loss: 0.7611 - accuracy: 0.7271 - val_loss: 2.7425 - val_accuracy: 0.2896\n",
            "Epoch 27/40\n",
            "60/60 [==============================] - 3s 48ms/step - loss: 0.7897 - accuracy: 0.7141 - val_loss: 2.6719 - val_accuracy: 0.2896\n",
            "Epoch 28/40\n",
            "60/60 [==============================] - 3s 48ms/step - loss: 0.8320 - accuracy: 0.7031 - val_loss: 3.3085 - val_accuracy: 0.2583\n",
            "Epoch 29/40\n",
            "60/60 [==============================] - 3s 48ms/step - loss: 0.7108 - accuracy: 0.7490 - val_loss: 3.0640 - val_accuracy: 0.2896\n",
            "Epoch 30/40\n",
            "60/60 [==============================] - 3s 48ms/step - loss: 0.7331 - accuracy: 0.7542 - val_loss: 2.7294 - val_accuracy: 0.2812\n",
            "Epoch 31/40\n",
            "60/60 [==============================] - 3s 48ms/step - loss: 0.6869 - accuracy: 0.7604 - val_loss: 3.4214 - val_accuracy: 0.2521\n",
            "Epoch 32/40\n",
            "60/60 [==============================] - 3s 48ms/step - loss: 0.6236 - accuracy: 0.7797 - val_loss: 3.3255 - val_accuracy: 0.3000\n",
            "Epoch 33/40\n",
            "60/60 [==============================] - 3s 48ms/step - loss: 0.6111 - accuracy: 0.7776 - val_loss: 3.5399 - val_accuracy: 0.2812\n",
            "Epoch 34/40\n",
            "60/60 [==============================] - 3s 48ms/step - loss: 0.6050 - accuracy: 0.8073 - val_loss: 3.2717 - val_accuracy: 0.3042\n",
            "Epoch 35/40\n",
            "60/60 [==============================] - 3s 48ms/step - loss: 0.5703 - accuracy: 0.7917 - val_loss: 3.4196 - val_accuracy: 0.3125\n",
            "Epoch 36/40\n",
            "60/60 [==============================] - 3s 48ms/step - loss: 0.5384 - accuracy: 0.8260 - val_loss: 3.3928 - val_accuracy: 0.3146\n",
            "Epoch 37/40\n",
            "60/60 [==============================] - 3s 48ms/step - loss: 0.5109 - accuracy: 0.8438 - val_loss: 3.4152 - val_accuracy: 0.3146\n",
            "Epoch 38/40\n",
            "60/60 [==============================] - 3s 48ms/step - loss: 0.5067 - accuracy: 0.8255 - val_loss: 3.3753 - val_accuracy: 0.3063\n",
            "Epoch 39/40\n",
            "60/60 [==============================] - 3s 49ms/step - loss: 0.4559 - accuracy: 0.8677 - val_loss: 3.5218 - val_accuracy: 0.3021\n",
            "Epoch 40/40\n",
            "60/60 [==============================] - 3s 48ms/step - loss: 0.3804 - accuracy: 0.8729 - val_loss: 4.2621 - val_accuracy: 0.3104\n"
          ],
          "name": "stdout"
        }
      ]
    },
    {
      "cell_type": "code",
      "metadata": {
        "id": "CWdXexX7y4ev",
        "colab": {
          "base_uri": "https://localhost:8080/",
          "height": 232
        },
        "outputId": "c91c0d62-e88e-4b5b-aa47-a1fd51225144"
      },
      "source": [
        "plt.plot(history.history['acc'])\n",
        "plt.plot(history.history['val_acc'])\n",
        "plt.title('Model accuracy')\n",
        "plt.ylabel('Accuracy')\n",
        "plt.xlabel('Epoch')\n",
        "plt.legend(['Train', 'Test'], loc='upper left')\n",
        "plt.savefig('/content/drive/My Drive/basura/modelo_reciente_12000/accuracy.png')\n",
        "plt.show()"
      ],
      "execution_count": null,
      "outputs": [
        {
          "output_type": "error",
          "ename": "KeyError",
          "evalue": "ignored",
          "traceback": [
            "\u001b[0;31m---------------------------------------------------------------------------\u001b[0m",
            "\u001b[0;31mKeyError\u001b[0m                                  Traceback (most recent call last)",
            "\u001b[0;32m<ipython-input-10-053bb98614ba>\u001b[0m in \u001b[0;36m<module>\u001b[0;34m()\u001b[0m\n\u001b[0;32m----> 1\u001b[0;31m \u001b[0mplt\u001b[0m\u001b[0;34m.\u001b[0m\u001b[0mplot\u001b[0m\u001b[0;34m(\u001b[0m\u001b[0mhistory\u001b[0m\u001b[0;34m.\u001b[0m\u001b[0mhistory\u001b[0m\u001b[0;34m[\u001b[0m\u001b[0;34m'acc'\u001b[0m\u001b[0;34m]\u001b[0m\u001b[0;34m)\u001b[0m\u001b[0;34m\u001b[0m\u001b[0;34m\u001b[0m\u001b[0m\n\u001b[0m\u001b[1;32m      2\u001b[0m \u001b[0mplt\u001b[0m\u001b[0;34m.\u001b[0m\u001b[0mplot\u001b[0m\u001b[0;34m(\u001b[0m\u001b[0mhistory\u001b[0m\u001b[0;34m.\u001b[0m\u001b[0mhistory\u001b[0m\u001b[0;34m[\u001b[0m\u001b[0;34m'val_acc'\u001b[0m\u001b[0;34m]\u001b[0m\u001b[0;34m)\u001b[0m\u001b[0;34m\u001b[0m\u001b[0;34m\u001b[0m\u001b[0m\n\u001b[1;32m      3\u001b[0m \u001b[0mplt\u001b[0m\u001b[0;34m.\u001b[0m\u001b[0mtitle\u001b[0m\u001b[0;34m(\u001b[0m\u001b[0;34m'Model accuracy'\u001b[0m\u001b[0;34m)\u001b[0m\u001b[0;34m\u001b[0m\u001b[0;34m\u001b[0m\u001b[0m\n\u001b[1;32m      4\u001b[0m \u001b[0mplt\u001b[0m\u001b[0;34m.\u001b[0m\u001b[0mylabel\u001b[0m\u001b[0;34m(\u001b[0m\u001b[0;34m'Accuracy'\u001b[0m\u001b[0;34m)\u001b[0m\u001b[0;34m\u001b[0m\u001b[0;34m\u001b[0m\u001b[0m\n\u001b[1;32m      5\u001b[0m \u001b[0mplt\u001b[0m\u001b[0;34m.\u001b[0m\u001b[0mxlabel\u001b[0m\u001b[0;34m(\u001b[0m\u001b[0;34m'Epoch'\u001b[0m\u001b[0;34m)\u001b[0m\u001b[0;34m\u001b[0m\u001b[0;34m\u001b[0m\u001b[0m\n",
            "\u001b[0;31mKeyError\u001b[0m: 'acc'"
          ]
        }
      ]
    },
    {
      "cell_type": "code",
      "metadata": {
        "id": "_enEnk19y93d",
        "colab": {
          "base_uri": "https://localhost:8080/",
          "height": 295
        },
        "outputId": "36a9fc28-2bb0-43c1-e624-3ee516a40ac6"
      },
      "source": [
        "plt.plot(history.history['loss'])\n",
        "plt.plot(history.history['val_loss'])\n",
        "plt.title('Model loss')\n",
        "plt.ylabel('Loss')\n",
        "plt.xlabel('Epoch')\n",
        "plt.legend(['Train','Test'], loc='upper right')\n",
        "plt.savefig('/content/drive/My Drive/basura/modelo_reciente_12000/loss.png')\n",
        "plt.show() "
      ],
      "execution_count": null,
      "outputs": [
        {
          "output_type": "display_data",
          "data": {
            "image/png": "[encoded data removed]",
            "text/plain": [
              "<Figure size 432x288 with 1 Axes>"
            ]
          },
          "metadata": {
            "tags": [],
            "needs_background": "light"
          }
        }
      ]
    }
  ]
}