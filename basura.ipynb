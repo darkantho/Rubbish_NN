{
  "nbformat": 4,
  "nbformat_minor": 0,
  "metadata": {
    "colab": {
      "name": "basura.ipynb",
      "provenance": [],
      "collapsed_sections": [],
      "machine_shape": "hm",
      "mount_file_id": "110XgDrsJfoLutsZ4j3eSJCRzXFMuw29E",
      "authorship_tag": "ABX9TyM4Nqb+GyRaQfEYAbWPufoE"
    },
    "kernelspec": {
      "name": "python3",
      "display_name": "Python 3"
    },
    "accelerator": "GPU"
  },
  "cells": [
    {
      "cell_type": "code",
      "metadata": {
        "id": "7mY25EDLVQ9W"
      },
      "source": [
        "# from psutil import virtual_memory\n",
        "# ram_gb = virtual_memory().total / 1e9\n",
        "# print('Your runtime has {:.1f} gigabytes of available RAM\\n'.format(ram_gb))\n",
        " \n",
        "# if ram_gb < 20:\n",
        "#   print('To enable a high-RAM runtime, select the Runtime → \"Change runtime type\"')\n",
        "#   print('menu, and then select High-RAM in the Runtime shape dropdown. Then, ')\n",
        "#   print('re-execute this cell.')\n",
        "# else:\n",
        "#   print('You are using a high-RAM runtime!')"
      ],
      "execution_count": null,
      "outputs": []
    },
    {
      "cell_type": "code",
      "metadata": {
        "id": "Dm2iPhVoW0t9"
      },
      "source": [
        "# gpu_info = !nvidia-smi\n",
        "# gpu_info = '\\n'.join(gpu_info)\n",
        "# if gpu_info.find('failed') >= 0:\n",
        "#   print('Select the Runtime → \"Change runtime type\" menu to enable a GPU accelerator, ')\n",
        "#   print('and then re-execute this cell.')\n",
        "# else:\n",
        "#   print(gpu_info)"
      ],
      "execution_count": null,
      "outputs": []
    },
    {
      "cell_type": "code",
      "metadata": {
        "id": "Uzw6MVfTZuhm",
        "colab": {
          "base_uri": "https://localhost:8080/",
          "height": 190
        },
        "outputId": "120bdaf9-e93d-48b5-a35c-d88f91ce0c73"
      },
      "source": [
        "!pip install pycm"
      ],
      "execution_count": null,
      "outputs": [
        {
          "output_type": "stream",
          "text": [
            "Collecting pycm\n",
            "\u001b[?25l  Downloading https://files.pythonhosted.org/packages/96/f4/6c4685c6817d50287e81cdbdca8eed949f4b3f343319edcf917a5b278a03/pycm-2.9-py2.py3-none-any.whl (60kB)\n",
            "\r\u001b[K     |█████▌                          | 10kB 19.0MB/s eta 0:00:01\r\u001b[K     |███████████                     | 20kB 3.1MB/s eta 0:00:01\r\u001b[K     |████████████████▍               | 30kB 4.2MB/s eta 0:00:01\r\u001b[K     |█████████████████████▉          | 40kB 4.5MB/s eta 0:00:01\r\u001b[K     |███████████████████████████▎    | 51kB 3.6MB/s eta 0:00:01\r\u001b[K     |████████████████████████████████| 61kB 2.8MB/s \n",
            "\u001b[?25hCollecting art>=1.8\n",
            "\u001b[?25l  Downloading https://files.pythonhosted.org/packages/53/c7/cdabde597edd3bf40afabc6d4dd830451c41ee4d3bd5072a54e3b5b1ec85/art-4.8-py2.py3-none-any.whl (552kB)\n",
            "\u001b[K     |████████████████████████████████| 552kB 11.1MB/s \n",
            "\u001b[?25hRequirement already satisfied: numpy>=1.9.0 in /usr/local/lib/python3.6/dist-packages (from pycm) (1.18.5)\n",
            "Installing collected packages: art, pycm\n",
            "Successfully installed art-4.8 pycm-2.9\n"
          ],
          "name": "stdout"
        }
      ]
    },
    {
      "cell_type": "code",
      "metadata": {
        "id": "btp248AvazQj",
        "colab": {
          "base_uri": "https://localhost:8080/",
          "height": 34
        },
        "outputId": "14aabb50-776c-47a0-8f52-b8ad67ec8e63"
      },
      "source": [
        "# %tensorflow_version 1.x\n",
        "import tensorflow as tf\n",
        "import os\n",
        "import h5py\n",
        "from PIL import Image\n",
        "import numpy as np\n",
        "from keras.utils import np_utils\n",
        "from skimage import io\n",
        "from keras.preprocessing.image import ImageDataGenerator,array_to_img,img_to_array,load_img\n",
        "from pycm import *\n",
        "import random,os,glob\n",
        "\n",
        "print(tf.__version__)\n"
      ],
      "execution_count": null,
      "outputs": [
        {
          "output_type": "stream",
          "text": [
            "2.3.0\n"
          ],
          "name": "stdout"
        }
      ]
    },
    {
      "cell_type": "code",
      "metadata": {
        "id": "qTmvcBNsUy4_",
        "colab": {
          "base_uri": "https://localhost:8080/",
          "height": 51
        },
        "outputId": "16703265-d470-4e0e-daca-2d5420ebfd97"
      },
      "source": [
        "\n",
        "locacion='/content/drive/My Drive/basura/batch/train/*/*'\n",
        "location2='/content/drive/My Drive/basura/batch/clasificacion_basura/*/*'\n",
        "# locacion='/content/drive/My Drive/basura/batch_new/*/*'\n",
        "img_list = glob.glob(locacion)\n",
        "img_list2= glob.glob(location2)\n",
        "print(len(img_list))\n",
        "print(len(img_list2))\n",
        "# # carton_directorio_train=\"/content/drive/My Drive/basura/batch/train/cardboard\"\n",
        "# # vidrio_directorio_train=\"/content/drive/My Drive/basura/batch/train/glass\"\n",
        "# # metal_directorio_train=\"/content/drive/My Drive/basura/batch/train/metal\"\n",
        "# # papel_directorio_train=\"/content/drive/My Drive/basura/batch/train/paper\"\n",
        "# # plastico_directorio_train=\"/content/drive/My Drive/basura/batch/train/plastic\"\n",
        "# # basura_directorio_train=\"/content/drive/My Drive/basura/batch/train/trash\"\n",
        "\n",
        "\n",
        "\n",
        "# # base=h5py.File(\"/content/drive/My Drive/basura/data.h5\",\"w\")\n",
        "# # carton_directorio_test=\"/content/drive/My Drive/basura/test/cardboard\"\n",
        "# # vidrio_directorio_test=\"/content/drive/My Drive/basura/test/glass\"\n",
        "# # metal_directorio_test=\"/content/drive/My Drive/basura/test/metal\"\n",
        "# # papel_directorio_test=\"/content/drive/My Drive/basura/test/paper\"\n",
        "# # plastico_directorio_test=\"/content/drive/My Drive/basura/test/plastic\"\n",
        "# # basura_directorio_test=\"/content/drive/My Drive/basura/test/trash\"\n",
        "\n",
        "\n",
        "\n",
        "# # carton_directorio_valid=\"/content/drive/My Drive/basura/valido/cardboard\"\n",
        "# # vidrio_directorio_valid=\"/content/drive/My Drive/basura/valido/glass\"\n",
        "# # metal_directorio_valid=\"/content/drive/My Drive/basura/valido/metal\"\n",
        "# # papel_directorio_valid=\"/content/drive/My Drive/basura/valido/paper\"\n",
        "# # plastico_directorio_valid=\"/content/drive/My Drive/basura/valido/plastic\"\n",
        "# # basura_directorio_valid=\"/content/drive/My Drive/basura/valido/trash\"\n",
        "\n",
        "\n",
        "# directorios_train=[carton_directorio_train,vidrio_directorio_train,\n",
        "#                    metal_directorio_train,papel_directorio_train,\n",
        "#                    plastico_directorio_train,basura_directorio_train]\n",
        "\n",
        "\n",
        "# # directorios_test=[carton_directorio_test,vidrio_directorio_test,\n",
        "# #                   metal_directorio_test,papel_directorio_test,\n",
        "# #                   plastico_directorio_test,basura_directorio_test]\n",
        "\n",
        "\n",
        "# # directorios_valid=[carton_directorio_valid,vidrio_directorio_valid,\n",
        "# #                    metal_directorio_valid,papel_directorio_valid,\n",
        "# #                    plastico_directorio_valid,basura_directorio_valid]\n",
        "\n",
        "\n",
        "# pre_train=[os.listdir(carton_directorio_train),os.listdir(vidrio_directorio_train),\n",
        "#            os.listdir(metal_directorio_train),os.listdir(papel_directorio_train),\n",
        "#            os.listdir(plastico_directorio_train),os.listdir(basura_directorio_train)]\n",
        "\n",
        "\n",
        "# # pre_test=[os.listdir(carton_directorio_test),os.listdir(vidrio_directorio_test),\n",
        "# #           os.listdir(metal_directorio_test),os.listdir(papel_directorio_test),\n",
        "# #           os.listdir(plastico_directorio_test),os.listdir(basura_directorio_test)]\n",
        "\n",
        "\n",
        "# # pre_valid=[os.listdir(carton_directorio_valid),os.listdir(vidrio_directorio_valid),\n",
        "# #            os.listdir(metal_directorio_valid),os.listdir(papel_directorio_valid),\n",
        "# #            os.listdir(plastico_directorio_valid),os.listdir(basura_directorio_valid)]\n",
        "\n",
        "\n",
        "# # X_valid=[]\n",
        "# # Y_valid=[]\n",
        "\n",
        "\n",
        "# # X_train=[]\n",
        "# # Y_train=[]\n",
        "\n",
        "# # X_test=[]\n",
        "# # Y_test=[]\n",
        "\n",
        "\n",
        "# data=[]\n",
        "# value=[]\n",
        "# # f=open(\"/content/drive/My Drive/basura/imagenes.csv\",\"w\")\n",
        "# c=0\n",
        "# for i in pre_train:\n",
        "#     for j in i:\n",
        "#         ruta=\"{}/{}\".format(directorios_train[c],j)\n",
        "#         # img=np.asarray(Image.open(ruta).convert(\"RGB\"))/255\n",
        "#         # img=io.imread(ruta)/255\n",
        "#         # base[j]=img\n",
        "#         # linea=list(np.ravel(img))\n",
        "#         # linea.append(c)\n",
        "#         # conversion=map(str,linea)\n",
        "#         # f.write(\"{}\\n\".format(\",\".join(conversion)))\n",
        "#         # data.append(img)\n",
        "#         data.append(ruta)\n",
        "#         value.append(c)\n",
        "#     c+=1\n",
        "#     print(c)\n"
      ],
      "execution_count": null,
      "outputs": [
        {
          "output_type": "stream",
          "text": [
            "12570\n",
            "2400\n"
          ],
          "name": "stdout"
        }
      ]
    },
    {
      "cell_type": "code",
      "metadata": {
        "id": "0vZzNAWrvthv",
        "colab": {
          "base_uri": "https://localhost:8080/",
          "height": 153
        },
        "outputId": "ef9ed61a-66a8-48d4-cb39-cecc1a65a7bb"
      },
      "source": [
        "validationsplit=0.1\n",
        "train=ImageDataGenerator(horizontal_flip=True,\n",
        "                         vertical_flip=True,\n",
        "                         validation_split=validationsplit,\n",
        "                         rescale=1./255,\n",
        "                         shear_range = 0.1,\n",
        "                         zoom_range = 0.1,\n",
        "                         width_shift_range = 0.1,\n",
        "                         height_shift_range = 0.1)\n",
        "\n",
        "test=ImageDataGenerator(rescale=1/255,\n",
        "                        validation_split=validationsplit)\n",
        "\n",
        "dir_f='../content/drive/My Drive/basura/batch/train'\n",
        "\n",
        "\n",
        "train_generator=train.flow_from_directory(dir_f,\n",
        "                                          target_size=(200,200),\n",
        "                                          batch_size=32,\n",
        "                                          class_mode='categorical',\n",
        "                                          subset='training',seed=10)\n",
        "\n",
        "test_generator=test.flow_from_directory(dir_f,\n",
        "                                        target_size=(200,200),\n",
        "                                        batch_size=32,\n",
        "                                        class_mode='categorical',\n",
        "                                        subset='validation',seed=10)\n",
        "\n",
        "\n",
        "\n",
        "\n",
        "\n",
        "\n",
        "\n",
        "labels = (train_generator.class_indices)\n",
        "print(labels)\n",
        "\n",
        "print(\"\\n\")\n",
        "\n",
        "# labels2 = (train_generator_2400.class_indices)\n",
        "# print(labels2)\n",
        "\n",
        "print(\"\\n\")\n",
        "\n",
        "labels = dict((v,k) for k,v in labels.items())\n",
        "print(labels)\n",
        "\n",
        "\n",
        "\n",
        "# labels2 = dict((v,k) for k,v in labels2.items())\n",
        "# print(labels2)\n"
      ],
      "execution_count": null,
      "outputs": [
        {
          "output_type": "stream",
          "text": [
            "Found 11316 images belonging to 6 classes.\n",
            "Found 1254 images belonging to 6 classes.\n",
            "{'cardboard': 0, 'glass': 1, 'metal': 2, 'paper': 3, 'plastic': 4, 'trash': 5}\n",
            "\n",
            "\n",
            "\n",
            "\n",
            "{0: 'cardboard', 1: 'glass', 2: 'metal', 3: 'paper', 4: 'plastic', 5: 'trash'}\n"
          ],
          "name": "stdout"
        }
      ]
    },
    {
      "cell_type": "code",
      "metadata": {
        "id": "yLF0lpsbzqK5",
        "colab": {
          "base_uri": "https://localhost:8080/",
          "height": 68
        },
        "outputId": "15cbe44d-91dc-48ec-d215-2a3eda12e29a"
      },
      "source": [
        "# for image_batch, label_batch in train_generator:\n",
        "#   break\n",
        "# image_batch.shape, label_batch.shape\n",
        "\n",
        "# print(\"\\n\")\n",
        "\n",
        "# for image_batch2, label_batch2 in train_generator_2400:\n",
        "#   break\n",
        "# image_batch2.shape, label_batch2.shape\n",
        "\n",
        "\n"
      ],
      "execution_count": null,
      "outputs": [
        {
          "output_type": "stream",
          "text": [
            "\n",
            "\n"
          ],
          "name": "stdout"
        },
        {
          "output_type": "execute_result",
          "data": {
            "text/plain": [
              "((32, 200, 200, 3), (32, 6))"
            ]
          },
          "metadata": {
            "tags": []
          },
          "execution_count": 6
        }
      ]
    },
    {
      "cell_type": "code",
      "metadata": {
        "id": "s_j_rzhndt4w"
      },
      "source": [
        "def model_level():\n",
        "    model=tf.keras.models.Sequential()\n",
        "    # model.add(tf.keras.layers.Conv2D(128,(5,5), input_shape=(384,512,3), activation=\"relu\",data_format='channels_last'))\n",
        "    # model.add(tf.keras.layers.MaxPooling2D())\n",
        "    # model.add(tf.keras.layers.Conv2D(64,(3,3), activation=\"relu\"))\n",
        "    # model.add(tf.keras.layers.Conv2D(32,(3,3), activation=\"relu\"))\n",
        "    # model.add(tf.keras.layers.Conv2D(16,(3,2), activation=\"relu\"))\n",
        "    # model.add(tf.keras.layers.MaxPooling2D())\n",
        "    # model.add(tf.keras.layers.Conv2D(64,(3,3), activation='relu'))\n",
        "    # model.add(tf.keras.layers.Conv2D(32,(3,3), activation='relu'))\n",
        "    # model.add(tf.keras.layers.MaxPooling2D())\n",
        "    # model.add(tf.keras.layers.Flatten())\n",
        "    # model.add(tf.keras.layers.Dense(75,activation=\"relu\"))\n",
        "    # model.add(tf.keras.layers.Dropout(rate=0.2))\n",
        "    # model.add(tf.keras.layers.Dense(25,activation=\"relu\"))\n",
        "    # model.add(tf.keras.layers.Dropout(rate=0.5))\n",
        "    # model.add(tf.keras.layers.Dense(clase,activation='softmax'))\n",
        "    model.add(tf.keras.layers.Conv2D(64,(4,4),input_shape=(200,200,3),activation='relu'))\n",
        "    model.add(tf.keras.layers.MaxPooling2D(pool_size=2)) \n",
        "    model.add(tf.keras.layers.Conv2D(64,(3,3),activation='relu')) \n",
        "    model.add(tf.keras.layers.MaxPooling2D(pool_size=2))\n",
        "    model.add(tf.keras.layers.Conv2D(32,(3,3),activation='relu')) \n",
        "    model.add(tf.keras.layers.MaxPooling2D(pool_size=2))\n",
        "    model.add(tf.keras.layers.Flatten())\n",
        "    model.add(tf.keras.layers.Dense(64,activation='relu'))\n",
        "    model.add(tf.keras.layers.Dropout(rate=0.3))\n",
        "    model.add(tf.keras.layers.Dense(32,activation='relu'))\n",
        "    model.add(tf.keras.layers.Dropout(rate=0.15))\n",
        "    model.add(tf.keras.layers.Dense(6,activation='softmax'))\n",
        "    return model\n",
        "\n",
        "\n",
        "filepath=\"/content/drive/My Drive/basura/modelo_reciente_12000/model_best.h5\"\n",
        "checkpoint1 = tf.keras.callbacks.ModelCheckpoint(filepath, monitor='val_acc', verbose=2, save_best_only=True, mode='max')\n",
        "callbacks_list = [checkpoint1]\n",
        "\n",
        "\n",
        "\n",
        "filepath2=\"/content/drive/My Drive/basura/mode_2400/model_best.h5\"\n",
        "checkpoint2 = tf.keras.callbacks.ModelCheckpoint(filepath2, monitor='val_acc', verbose=2, save_best_only=True, mode='max')\n",
        "callbacks_list2= [checkpoint2]\n",
        "\n"
      ],
      "execution_count": null,
      "outputs": []
    },
    {
      "cell_type": "code",
      "metadata": {
        "id": "yXi_YyB_FTua",
        "colab": {
          "base_uri": "https://localhost:8080/",
          "height": 578
        },
        "outputId": "7ad57e12-05c7-45bd-afaf-b1949ce1b8c2"
      },
      "source": [
        "model = model_level()\n",
        "print(model.summary())\n"
      ],
      "execution_count": null,
      "outputs": [
        {
          "output_type": "stream",
          "text": [
            "Model: \"sequential\"\n",
            "_________________________________________________________________\n",
            "Layer (type)                 Output Shape              Param #   \n",
            "=================================================================\n",
            "conv2d (Conv2D)              (None, 197, 197, 64)      3136      \n",
            "_________________________________________________________________\n",
            "max_pooling2d (MaxPooling2D) (None, 98, 98, 64)        0         \n",
            "_________________________________________________________________\n",
            "conv2d_1 (Conv2D)            (None, 96, 96, 64)        36928     \n",
            "_________________________________________________________________\n",
            "max_pooling2d_1 (MaxPooling2 (None, 48, 48, 64)        0         \n",
            "_________________________________________________________________\n",
            "conv2d_2 (Conv2D)            (None, 46, 46, 32)        18464     \n",
            "_________________________________________________________________\n",
            "max_pooling2d_2 (MaxPooling2 (None, 23, 23, 32)        0         \n",
            "_________________________________________________________________\n",
            "flatten (Flatten)            (None, 16928)             0         \n",
            "_________________________________________________________________\n",
            "dense (Dense)                (None, 64)                1083456   \n",
            "_________________________________________________________________\n",
            "dropout (Dropout)            (None, 64)                0         \n",
            "_________________________________________________________________\n",
            "dense_1 (Dense)              (None, 32)                2080      \n",
            "_________________________________________________________________\n",
            "dropout_1 (Dropout)          (None, 32)                0         \n",
            "_________________________________________________________________\n",
            "dense_2 (Dense)              (None, 6)                 198       \n",
            "=================================================================\n",
            "Total params: 1,144,262\n",
            "Trainable params: 1,144,262\n",
            "Non-trainable params: 0\n",
            "_________________________________________________________________\n",
            "None\n"
          ],
          "name": "stdout"
        }
      ]
    },
    {
      "cell_type": "code",
      "metadata": {
        "id": "cj1mUGP62tiA"
      },
      "source": [
        "import matplotlib.pyplot as plt\n",
        "# from keras.backend.tensorflow_backend import set_session\n",
        "config = tf.compat.v1.ConfigProto()\n",
        "# config=tf.ConfigProto()\n",
        "config.gpu_options.allow_growth = True\n"
      ],
      "execution_count": null,
      "outputs": []
    },
    {
      "cell_type": "code",
      "metadata": {
        "id": "FZMX65due5Ll",
        "colab": {
          "base_uri": "https://localhost:8080/",
          "height": 1000
        },
        "outputId": "8bfb9385-c09a-448f-be8c-77304c8a2107"
      },
      "source": [
        "spit_data=validationsplit\n",
        "\n",
        "\n",
        "\n",
        "with tf.device('/device:GPU:0'):\n",
        "    #opt = tf.keras.optimizers.Adam(learning_rate=0.001)\n",
        "    model.compile(loss='categorical_crossentropy', optimizer=\"adam\", metrics=['acc'])\n",
        "    # history=model.fit(X_train,Y_train,validation_data=(X_test,Y_test), batch_size=130, epochs=40,verbose=1,callbacks=callbacks_list)\n",
        "    # history=model.fit_generator(trained_data,steps_per_epoch=len(X_train)//32,validation_data=test_data,validation_steps=550//32,epochs=50,verbose=1)\n",
        "    history=model.fit(train_generator,\n",
        "                                 epochs=40,\n",
        "                                 steps_per_epoch=(len(img_list)*(1-spit_data))//32,\n",
        "                                 validation_data=test_generator,\n",
        "                                 validation_steps=(len(img_list)*(spit_data))//32,\n",
        "                                 callbacks=callbacks_list) \n",
        "    \n",
        "    # history=model.fit_generator(train_generator,\n",
        "    #                              epochs=40,\n",
        "    #                              steps_per_epoch=(len(img_list)*(1-spit_data))//32,\n",
        "    #                              validation_data=test_generator,\n",
        "    #                              validation_steps=(len(img_list)*(spit_data))//32,\n",
        "    #                              workers = 4,\n",
        "    #                              callbacks=callbacks_list) \n",
        "    # scores = model.evaluate(X_test,Y_test,verbose=1,batch_size=30)\n",
        "    # print(\"Large CNN Error: {0:.4f}% accuracy:{1:.4f}%\".format((100-scores[1] * 100),scores[1]*100))\n",
        "\n",
        "    model_json = model.to_json()\n",
        "    with open(\"/content/drive/My Drive/basura/modelo_reciente_12000/model_t.json\",\"w\") as json_file:\n",
        "        json_file.write(model_json)\n",
        "    model.save_weights('/content/drive/My Drive/basura/modelo_reciente_12000/model_last.h5')\n",
        "\n"
      ],
      "execution_count": null,
      "outputs": [
        {
          "output_type": "stream",
          "text": [
            "Epoch 1/40\n",
            "353/353 [==============================] - ETA: 0s - loss: 1.7024 - acc: 0.2632 \n",
            "Epoch 00001: val_acc improved from -inf to 0.42708, saving model to /content/drive/My Drive/basura/modelo_reciente_12000/model_best.h5\n",
            "353/353 [==============================] - 5178s 15s/step - loss: 1.7024 - acc: 0.2632 - val_loss: 1.4837 - val_acc: 0.4271\n",
            "Epoch 2/40\n",
            "353/353 [==============================] - ETA: 0s - loss: 1.4320 - acc: 0.4286\n",
            "Epoch 00002: val_acc improved from 0.42708 to 0.46314, saving model to /content/drive/My Drive/basura/modelo_reciente_12000/model_best.h5\n",
            "353/353 [==============================] - 101s 285ms/step - loss: 1.4320 - acc: 0.4286 - val_loss: 1.3546 - val_acc: 0.4631\n",
            "Epoch 3/40\n",
            "353/353 [==============================] - ETA: 0s - loss: 1.3202 - acc: 0.4871\n",
            "Epoch 00003: val_acc improved from 0.46314 to 0.52644, saving model to /content/drive/My Drive/basura/modelo_reciente_12000/model_best.h5\n",
            "353/353 [==============================] - 100s 284ms/step - loss: 1.3202 - acc: 0.4871 - val_loss: 1.2493 - val_acc: 0.5264\n",
            "Epoch 4/40\n",
            "353/353 [==============================] - ETA: 0s - loss: 1.2526 - acc: 0.5169\n",
            "Epoch 00004: val_acc improved from 0.52644 to 0.57051, saving model to /content/drive/My Drive/basura/modelo_reciente_12000/model_best.h5\n",
            "353/353 [==============================] - 100s 282ms/step - loss: 1.2526 - acc: 0.5169 - val_loss: 1.0967 - val_acc: 0.5705\n",
            "Epoch 5/40\n",
            "353/353 [==============================] - ETA: 0s - loss: 1.2030 - acc: 0.5432\n",
            "Epoch 00005: val_acc improved from 0.57051 to 0.61298, saving model to /content/drive/My Drive/basura/modelo_reciente_12000/model_best.h5\n",
            "353/353 [==============================] - 100s 284ms/step - loss: 1.2030 - acc: 0.5432 - val_loss: 1.0436 - val_acc: 0.6130\n",
            "Epoch 6/40\n",
            "353/353 [==============================] - ETA: 0s - loss: 1.1457 - acc: 0.5721\n",
            "Epoch 00006: val_acc did not improve from 0.61298\n",
            "353/353 [==============================] - 99s 281ms/step - loss: 1.1457 - acc: 0.5721 - val_loss: 1.0319 - val_acc: 0.6122\n",
            "Epoch 7/40\n",
            "353/353 [==============================] - ETA: 0s - loss: 1.0861 - acc: 0.5900\n",
            "Epoch 00007: val_acc improved from 0.61298 to 0.66506, saving model to /content/drive/My Drive/basura/modelo_reciente_12000/model_best.h5\n",
            "353/353 [==============================] - 100s 284ms/step - loss: 1.0861 - acc: 0.5900 - val_loss: 0.9396 - val_acc: 0.6651\n",
            "Epoch 8/40\n",
            "353/353 [==============================] - ETA: 0s - loss: 1.0495 - acc: 0.6147\n",
            "Epoch 00008: val_acc did not improve from 0.66506\n",
            "353/353 [==============================] - 99s 280ms/step - loss: 1.0495 - acc: 0.6147 - val_loss: 0.9354 - val_acc: 0.6490\n",
            "Epoch 9/40\n",
            "353/353 [==============================] - ETA: 0s - loss: 1.0181 - acc: 0.6237\n",
            "Epoch 00009: val_acc improved from 0.66506 to 0.66827, saving model to /content/drive/My Drive/basura/modelo_reciente_12000/model_best.h5\n",
            "353/353 [==============================] - 100s 284ms/step - loss: 1.0181 - acc: 0.6237 - val_loss: 0.9153 - val_acc: 0.6683\n",
            "Epoch 10/40\n",
            "353/353 [==============================] - ETA: 0s - loss: 0.9831 - acc: 0.6354\n",
            "Epoch 00010: val_acc did not improve from 0.66827\n",
            "353/353 [==============================] - 99s 279ms/step - loss: 0.9831 - acc: 0.6354 - val_loss: 0.9530 - val_acc: 0.6619\n",
            "Epoch 11/40\n",
            "353/353 [==============================] - ETA: 0s - loss: 0.9579 - acc: 0.6461\n",
            "Epoch 00011: val_acc improved from 0.66827 to 0.70753, saving model to /content/drive/My Drive/basura/modelo_reciente_12000/model_best.h5\n",
            "353/353 [==============================] - 100s 283ms/step - loss: 0.9579 - acc: 0.6461 - val_loss: 0.8258 - val_acc: 0.7075\n",
            "Epoch 12/40\n",
            "353/353 [==============================] - ETA: 0s - loss: 0.9135 - acc: 0.6703\n",
            "Epoch 00012: val_acc improved from 0.70753 to 0.74920, saving model to /content/drive/My Drive/basura/modelo_reciente_12000/model_best.h5\n",
            "353/353 [==============================] - 100s 284ms/step - loss: 0.9135 - acc: 0.6703 - val_loss: 0.7661 - val_acc: 0.7492\n",
            "Epoch 13/40\n",
            "353/353 [==============================] - ETA: 0s - loss: 0.8915 - acc: 0.6773\n",
            "Epoch 00013: val_acc improved from 0.74920 to 0.75721, saving model to /content/drive/My Drive/basura/modelo_reciente_12000/model_best.h5\n",
            "353/353 [==============================] - 100s 284ms/step - loss: 0.8915 - acc: 0.6773 - val_loss: 0.7114 - val_acc: 0.7572\n",
            "Epoch 14/40\n",
            "353/353 [==============================] - ETA: 0s - loss: 0.8769 - acc: 0.6803\n",
            "Epoch 00014: val_acc did not improve from 0.75721\n",
            "353/353 [==============================] - 99s 281ms/step - loss: 0.8769 - acc: 0.6803 - val_loss: 0.7561 - val_acc: 0.7372\n",
            "Epoch 15/40\n",
            "353/353 [==============================] - ETA: 0s - loss: 0.8494 - acc: 0.6908\n",
            "Epoch 00015: val_acc improved from 0.75721 to 0.77003, saving model to /content/drive/My Drive/basura/modelo_reciente_12000/model_best.h5\n",
            "353/353 [==============================] - 100s 284ms/step - loss: 0.8494 - acc: 0.6908 - val_loss: 0.6831 - val_acc: 0.7700\n",
            "Epoch 16/40\n",
            "353/353 [==============================] - ETA: 0s - loss: 0.8099 - acc: 0.7093\n",
            "Epoch 00016: val_acc did not improve from 0.77003\n",
            "353/353 [==============================] - 99s 280ms/step - loss: 0.8099 - acc: 0.7093 - val_loss: 0.6603 - val_acc: 0.7676\n",
            "Epoch 17/40\n",
            "353/353 [==============================] - ETA: 0s - loss: 0.8013 - acc: 0.7187\n",
            "Epoch 00017: val_acc did not improve from 0.77003\n",
            "353/353 [==============================] - 99s 280ms/step - loss: 0.8013 - acc: 0.7187 - val_loss: 0.7054 - val_acc: 0.7652\n",
            "Epoch 18/40\n",
            "353/353 [==============================] - ETA: 0s - loss: 0.7843 - acc: 0.7194\n",
            "Epoch 00018: val_acc improved from 0.77003 to 0.77083, saving model to /content/drive/My Drive/basura/modelo_reciente_12000/model_best.h5\n",
            "353/353 [==============================] - 100s 282ms/step - loss: 0.7843 - acc: 0.7194 - val_loss: 0.6424 - val_acc: 0.7708\n",
            "Epoch 19/40\n",
            "353/353 [==============================] - ETA: 0s - loss: 0.7516 - acc: 0.7261\n",
            "Epoch 00019: val_acc improved from 0.77083 to 0.80369, saving model to /content/drive/My Drive/basura/modelo_reciente_12000/model_best.h5\n",
            "353/353 [==============================] - 99s 281ms/step - loss: 0.7516 - acc: 0.7261 - val_loss: 0.6139 - val_acc: 0.8037\n",
            "Epoch 20/40\n",
            "353/353 [==============================] - ETA: 0s - loss: 0.7657 - acc: 0.7282\n",
            "Epoch 00020: val_acc did not improve from 0.80369\n",
            "353/353 [==============================] - 99s 280ms/step - loss: 0.7657 - acc: 0.7282 - val_loss: 0.5977 - val_acc: 0.7901\n",
            "Epoch 21/40\n",
            "353/353 [==============================] - ETA: 0s - loss: 0.7309 - acc: 0.7386\n",
            "Epoch 00021: val_acc did not improve from 0.80369\n",
            "353/353 [==============================] - 99s 282ms/step - loss: 0.7309 - acc: 0.7386 - val_loss: 0.6458 - val_acc: 0.7700\n",
            "Epoch 22/40\n",
            "353/353 [==============================] - ETA: 0s - loss: 0.7208 - acc: 0.7425\n",
            "Epoch 00022: val_acc improved from 0.80369 to 0.82131, saving model to /content/drive/My Drive/basura/modelo_reciente_12000/model_best.h5\n",
            "353/353 [==============================] - 100s 284ms/step - loss: 0.7208 - acc: 0.7425 - val_loss: 0.5469 - val_acc: 0.8213\n",
            "Epoch 23/40\n",
            "353/353 [==============================] - ETA: 0s - loss: 0.7042 - acc: 0.7551\n",
            "Epoch 00023: val_acc did not improve from 0.82131\n",
            "353/353 [==============================] - 99s 280ms/step - loss: 0.7042 - acc: 0.7551 - val_loss: 0.5629 - val_acc: 0.8109\n",
            "Epoch 24/40\n",
            "353/353 [==============================] - ETA: 0s - loss: 0.7036 - acc: 0.7525\n",
            "Epoch 00024: val_acc did not improve from 0.82131\n",
            "353/353 [==============================] - 99s 282ms/step - loss: 0.7036 - acc: 0.7525 - val_loss: 0.5779 - val_acc: 0.8125\n",
            "Epoch 25/40\n",
            "353/353 [==============================] - ETA: 0s - loss: 0.6903 - acc: 0.7539\n",
            "Epoch 00025: val_acc improved from 0.82131 to 0.83574, saving model to /content/drive/My Drive/basura/modelo_reciente_12000/model_best.h5\n",
            "353/353 [==============================] - 100s 284ms/step - loss: 0.6903 - acc: 0.7539 - val_loss: 0.5137 - val_acc: 0.8357\n",
            "Epoch 26/40\n",
            "353/353 [==============================] - ETA: 0s - loss: 0.6694 - acc: 0.7636\n",
            "Epoch 00026: val_acc did not improve from 0.83574\n",
            "353/353 [==============================] - 99s 280ms/step - loss: 0.6694 - acc: 0.7636 - val_loss: 0.5121 - val_acc: 0.8213\n",
            "Epoch 27/40\n",
            "353/353 [==============================] - ETA: 0s - loss: 0.6580 - acc: 0.7668\n",
            "Epoch 00027: val_acc did not improve from 0.83574\n",
            "353/353 [==============================] - 100s 282ms/step - loss: 0.6580 - acc: 0.7668 - val_loss: 0.5192 - val_acc: 0.8277\n",
            "Epoch 28/40\n",
            "353/353 [==============================] - ETA: 0s - loss: 0.6532 - acc: 0.7668\n",
            "Epoch 00028: val_acc did not improve from 0.83574\n",
            "353/353 [==============================] - 99s 281ms/step - loss: 0.6532 - acc: 0.7668 - val_loss: 0.4758 - val_acc: 0.8317\n",
            "Epoch 29/40\n",
            "353/353 [==============================] - ETA: 0s - loss: 0.6631 - acc: 0.7707\n",
            "Epoch 00029: val_acc did not improve from 0.83574\n",
            "353/353 [==============================] - 99s 280ms/step - loss: 0.6631 - acc: 0.7707 - val_loss: 0.5185 - val_acc: 0.8221\n",
            "Epoch 30/40\n",
            "353/353 [==============================] - ETA: 0s - loss: 0.6299 - acc: 0.7735\n",
            "Epoch 00030: val_acc improved from 0.83574 to 0.84054, saving model to /content/drive/My Drive/basura/modelo_reciente_12000/model_best.h5\n",
            "353/353 [==============================] - 100s 284ms/step - loss: 0.6299 - acc: 0.7735 - val_loss: 0.4572 - val_acc: 0.8405\n",
            "Epoch 31/40\n",
            "353/353 [==============================] - ETA: 0s - loss: 0.6299 - acc: 0.7763\n",
            "Epoch 00031: val_acc improved from 0.84054 to 0.85337, saving model to /content/drive/My Drive/basura/modelo_reciente_12000/model_best.h5\n",
            "353/353 [==============================] - 100s 284ms/step - loss: 0.6299 - acc: 0.7763 - val_loss: 0.4268 - val_acc: 0.8534\n",
            "Epoch 32/40\n",
            "353/353 [==============================] - ETA: 0s - loss: 0.6212 - acc: 0.7797\n",
            "Epoch 00032: val_acc did not improve from 0.85337\n",
            "353/353 [==============================] - 100s 283ms/step - loss: 0.6212 - acc: 0.7797 - val_loss: 0.4979 - val_acc: 0.8269\n",
            "Epoch 33/40\n",
            "353/353 [==============================] - ETA: 0s - loss: 0.6002 - acc: 0.7917\n",
            "Epoch 00033: val_acc improved from 0.85337 to 0.85897, saving model to /content/drive/My Drive/basura/modelo_reciente_12000/model_best.h5\n",
            "353/353 [==============================] - 100s 284ms/step - loss: 0.6002 - acc: 0.7917 - val_loss: 0.4109 - val_acc: 0.8590\n",
            "Epoch 34/40\n",
            "353/353 [==============================] - ETA: 0s - loss: 0.6074 - acc: 0.7865\n",
            "Epoch 00034: val_acc did not improve from 0.85897\n",
            "353/353 [==============================] - 99s 281ms/step - loss: 0.6074 - acc: 0.7865 - val_loss: 0.4286 - val_acc: 0.8510\n",
            "Epoch 35/40\n",
            "353/353 [==============================] - ETA: 0s - loss: 0.5720 - acc: 0.7967\n",
            "Epoch 00035: val_acc did not improve from 0.85897\n",
            "353/353 [==============================] - 99s 280ms/step - loss: 0.5720 - acc: 0.7967 - val_loss: 0.4051 - val_acc: 0.8550\n",
            "Epoch 36/40\n",
            "353/353 [==============================] - ETA: 0s - loss: 0.5927 - acc: 0.7921\n",
            "Epoch 00036: val_acc did not improve from 0.85897\n",
            "353/353 [==============================] - 99s 280ms/step - loss: 0.5927 - acc: 0.7921 - val_loss: 0.4254 - val_acc: 0.8550\n",
            "Epoch 37/40\n",
            "353/353 [==============================] - ETA: 0s - loss: 0.5749 - acc: 0.7984\n",
            "Epoch 00037: val_acc did not improve from 0.85897\n",
            "353/353 [==============================] - 99s 281ms/step - loss: 0.5749 - acc: 0.7984 - val_loss: 0.4212 - val_acc: 0.8534\n",
            "Epoch 38/40\n",
            "353/353 [==============================] - ETA: 0s - loss: 0.5648 - acc: 0.8009\n",
            "Epoch 00038: val_acc improved from 0.85897 to 0.87821, saving model to /content/drive/My Drive/basura/modelo_reciente_12000/model_best.h5\n",
            "353/353 [==============================] - 100s 283ms/step - loss: 0.5648 - acc: 0.8009 - val_loss: 0.3800 - val_acc: 0.8782\n",
            "Epoch 39/40\n",
            "353/353 [==============================] - ETA: 0s - loss: 0.5526 - acc: 0.8048\n",
            "Epoch 00039: val_acc did not improve from 0.87821\n",
            "353/353 [==============================] - 99s 280ms/step - loss: 0.5526 - acc: 0.8048 - val_loss: 0.4857 - val_acc: 0.8357\n",
            "Epoch 40/40\n",
            "353/353 [==============================] - ETA: 0s - loss: 0.5637 - acc: 0.7996\n",
            "Epoch 00040: val_acc did not improve from 0.87821\n",
            "353/353 [==============================] - 99s 281ms/step - loss: 0.5637 - acc: 0.7996 - val_loss: 0.3979 - val_acc: 0.8606\n"
          ],
          "name": "stdout"
        }
      ]
    },
    {
      "cell_type": "code",
      "metadata": {
        "id": "eHMJx3qDWp5D"
      },
      "source": [
        "# loaded=model.load_weights(\"/content/drive/My Drive/basura/model_best.h5\")\n",
        "# scores = model.evaluate(X_test,Y_test,verbose=1,batch_size=30)"
      ],
      "execution_count": null,
      "outputs": []
    },
    {
      "cell_type": "code",
      "metadata": {
        "id": "ZEv927SCDe4O",
        "colab": {
          "base_uri": "https://localhost:8080/",
          "height": 295
        },
        "outputId": "8188483f-1db0-4f30-a9ed-56e7cc3d2fb7"
      },
      "source": [
        "plt.plot(history.history['acc'])\n",
        "plt.plot(history.history['val_acc'])\n",
        "plt.title('Model accuracy')\n",
        "plt.ylabel('Accuracy')\n",
        "plt.xlabel('Epoch')\n",
        "plt.legend(['Train', 'Test'], loc='upper left')\n",
        "plt.savefig('/content/drive/My Drive/basura/modelo_reciente_12000/accuracy.png')\n",
        "plt.show()"
      ],
      "execution_count": null,
      "outputs": [
        {
          "output_type": "display_data",
          "data": {
            "image/png": "[encoded data removed]",
            "text/plain": [
              "<Figure size 432x288 with 1 Axes>"
            ]
          },
          "metadata": {
            "tags": [],
            "needs_background": "light"
          }
        }
      ]
    },
    {
      "cell_type": "code",
      "metadata": {
        "id": "KP6m6Z7IsTer",
        "colab": {
          "base_uri": "https://localhost:8080/",
          "height": 295
        },
        "outputId": "5872f9f1-940c-46c1-bdc2-bb3632639b12"
      },
      "source": [
        "plt.plot(history.history['loss'])\n",
        "plt.plot(history.history['val_loss'])\n",
        "plt.title('Model loss')\n",
        "plt.ylabel('Loss')\n",
        "plt.xlabel('Epoch')\n",
        "plt.legend(['Train','Test'], loc='upper right')\n",
        "plt.savefig('/content/drive/My Drive/basura/modelo_reciente_12000/loss.png')\n",
        "plt.show()  \n"
      ],
      "execution_count": null,
      "outputs": [
        {
          "output_type": "display_data",
          "data": {
            "image/png": "[encoded data removed]",
            "text/plain": [
              "<Figure size 432x288 with 1 Axes>"
            ]
          },
          "metadata": {
            "tags": [],
            "needs_background": "light"
          }
        }
      ]
    },
    {
      "cell_type": "code",
      "metadata": {
        "id": "9u_wRRZPnXnF"
      },
      "source": [
        "# print(X_train.shape)"
      ],
      "execution_count": null,
      "outputs": []
    },
    {
      "cell_type": "code",
      "metadata": {
        "id": "FH3AgUesiNx1"
      },
      "source": [
        "# gpu_info = !nvidia-smi\n",
        "# gpu_info = '\\n'.join(gpu_info)\n",
        "# if gpu_info.find('failed') >= 0:\n",
        "#   print('Select the Runtime → \"Change runtime type\" menu to enable a GPU accelerator, ')\n",
        "#   print('and then re-execute this cell.')\n",
        "# else:\n",
        "#   print(gpu_info)"
      ],
      "execution_count": null,
      "outputs": []
    },
    {
      "cell_type": "code",
      "metadata": {
        "id": "T9aV6ZmMA3Rf"
      },
      "source": [
        "carton_directorio_valid=\"/content/drive/My Drive/basura/validacion_batch/cardboard\"\n",
        "vidrio_directorio_valid=\"/content/drive/My Drive/basura/validacion_batch/glass\"\n",
        "metal_directorio_valid=\"/content/drive/My Drive/basura/validacion_batch/metal\"\n",
        "papel_directorio_valid=\"/content/drive/My Drive/basura/validacion_batch/paper\"\n",
        "plastico_directorio_valid=\"/content/drive/My Drive/basura/validacion_batch/plastic\"\n",
        "basura_directorio_valid=\"/content/drive/My Drive/basura/validacion_batch/trash\"\n",
        "\n",
        "directorios_valid=[carton_directorio_valid,vidrio_directorio_valid,\n",
        "                   metal_directorio_valid,papel_directorio_valid,\n",
        "                   plastico_directorio_valid,basura_directorio_valid]\n",
        "\n",
        "pre_valid=[os.listdir(carton_directorio_valid),os.listdir(vidrio_directorio_valid),\n",
        "           os.listdir(metal_directorio_valid),os.listdir(papel_directorio_valid),\n",
        "           os.listdir(plastico_directorio_valid),os.listdir(basura_directorio_valid)]\n",
        "\n",
        "\n",
        "X_valid=[]\n",
        "Y_valid=[]\n",
        "\n",
        "c=0\n",
        "for i in pre_valid:\n",
        "  for j in i:\n",
        "     ruta=\"{}/{}\".format(directorios_valid[c],j)\n",
        "     img=io.imread(ruta)/255\n",
        "     X_valid.append(img)\n",
        "     Y_valid.append(c)\n",
        "  c+=1\n",
        "\n"
      ],
      "execution_count": null,
      "outputs": []
    },
    {
      "cell_type": "code",
      "metadata": {
        "id": "Ye7tWRs15o0X",
        "colab": {
          "base_uri": "https://localhost:8080/",
          "height": 1000
        },
        "outputId": "b662e7e7-998e-4501-f7ba-8da3208c7bc5"
      },
      "source": [
        "json_file = open('/content/drive/My Drive/basura/modelo_reciente_12000/model_t.json','r')\n",
        "loaded_model_json = json_file.read()\n",
        "json_file.close()\n",
        "loaded_model = tf.keras.models.model_from_json(loaded_model_json)\n",
        "# cargar pesos al nuevo modelo\n",
        "loaded_model.load_weights('/content/drive/My Drive/basura/modelo_reciente_12000/model_last.h5')\n",
        "print(\"Cargado modelo desde disco.\")\n",
        "\n",
        "with tf.device('/device:GPU:0'):\n",
        "\n",
        "  # Compilar modelo cargado y listo para usar.\n",
        "  loaded_model.compile(loss='categorical_crossentropy', optimizer='adam', metrics=['accuracy'])\n",
        "  X_valid=np.array(X_valid)\n",
        "  ynew = np.around(loaded_model.predict(X_valid))\n",
        "  for i,j in enumerate(ynew):\n",
        "    print(i,j)\n",
        "\n",
        "\n"
      ],
      "execution_count": null,
      "outputs": [
        {
          "output_type": "stream",
          "text": [
            "Cargado modelo desde disco.\n",
            "0 [0. 0. 0. 0. 0. 1.]\n",
            "1 [1. 0. 0. 0. 0. 0.]\n",
            "2 [1. 0. 0. 0. 0. 0.]\n",
            "3 [1. 0. 0. 0. 0. 0.]\n",
            "4 [1. 0. 0. 0. 0. 0.]\n",
            "5 [0. 0. 0. 0. 0. 0.]\n",
            "6 [0. 0. 0. 0. 0. 0.]\n",
            "7 [1. 0. 0. 0. 0. 0.]\n",
            "8 [1. 0. 0. 0. 0. 0.]\n",
            "9 [1. 0. 0. 0. 0. 0.]\n",
            "10 [0. 1. 0. 0. 0. 0.]\n",
            "11 [0. 0. 1. 0. 0. 0.]\n",
            "12 [0. 1. 0. 0. 0. 0.]\n",
            "13 [0. 1. 0. 0. 0. 0.]\n",
            "14 [0. 1. 0. 0. 0. 0.]\n",
            "15 [0. 1. 0. 0. 0. 0.]\n",
            "16 [0. 0. 1. 0. 0. 0.]\n",
            "17 [0. 1. 0. 0. 0. 0.]\n",
            "18 [0. 0. 0. 0. 0. 0.]\n",
            "19 [0. 1. 0. 0. 0. 0.]\n",
            "20 [0. 0. 1. 0. 0. 0.]\n",
            "21 [0. 0. 0. 0. 0. 0.]\n",
            "22 [0. 1. 0. 0. 0. 0.]\n",
            "23 [0. 0. 1. 0. 0. 0.]\n",
            "24 [0. 0. 1. 0. 0. 0.]\n",
            "25 [0. 0. 1. 0. 0. 0.]\n",
            "26 [0. 0. 1. 0. 0. 0.]\n",
            "27 [0. 0. 1. 0. 0. 0.]\n",
            "28 [0. 0. 0. 0. 0. 0.]\n",
            "29 [0. 0. 1. 0. 0. 0.]\n",
            "30 [0. 0. 0. 1. 0. 0.]\n",
            "31 [0. 0. 0. 1. 0. 0.]\n",
            "32 [0. 0. 0. 1. 0. 0.]\n",
            "33 [0. 0. 0. 1. 0. 0.]\n",
            "34 [0. 0. 0. 1. 0. 0.]\n",
            "35 [0. 0. 0. 1. 0. 0.]\n",
            "36 [0. 0. 0. 1. 0. 0.]\n",
            "37 [0. 0. 0. 1. 0. 0.]\n",
            "38 [0. 0. 1. 0. 0. 0.]\n",
            "39 [0. 0. 0. 1. 0. 0.]\n",
            "40 [0. 1. 0. 0. 0. 0.]\n",
            "41 [0. 0. 0. 0. 1. 0.]\n",
            "42 [0. 0. 0. 0. 1. 0.]\n",
            "43 [0. 0. 0. 0. 1. 0.]\n",
            "44 [0. 0. 0. 0. 0. 0.]\n",
            "45 [0. 0. 0. 0. 1. 0.]\n",
            "46 [0. 0. 0. 0. 1. 0.]\n",
            "47 [0. 1. 0. 0. 0. 0.]\n",
            "48 [1. 0. 0. 0. 0. 0.]\n",
            "49 [0. 0. 0. 0. 1. 0.]\n",
            "50 [0. 0. 0. 0. 0. 0.]\n",
            "51 [0. 0. 0. 0. 0. 0.]\n",
            "52 [0. 0. 0. 0. 0. 1.]\n",
            "53 [0. 0. 1. 0. 0. 0.]\n",
            "54 [0. 0. 0. 1. 0. 0.]\n",
            "55 [0. 0. 0. 0. 0. 1.]\n",
            "56 [0. 0. 0. 0. 0. 0.]\n",
            "57 [0. 0. 0. 0. 0. 1.]\n",
            "58 [0. 0. 0. 0. 0. 1.]\n",
            "59 [0. 0. 0. 0. 0. 1.]\n"
          ],
          "name": "stdout"
        }
      ]
    },
    {
      "cell_type": "code",
      "metadata": {
        "id": "yqOVxLMoaOZT"
      },
      "source": [
        ""
      ],
      "execution_count": null,
      "outputs": []
    },
    {
      "cell_type": "code",
      "metadata": {
        "id": "WsyTSvn8HwGK",
        "colab": {
          "base_uri": "https://localhost:8080/",
          "height": 34
        },
        "outputId": "4a9bbd63-5a14-4cd4-f2e5-e04a52157305"
      },
      "source": [
        "yt=np_utils.to_categorical(np.array(Y_valid))\n",
        "scores = model.evaluate(np.array(X_valid),yt,verbose=1,batch_size=10)"
      ],
      "execution_count": null,
      "outputs": [
        {
          "output_type": "stream",
          "text": [
            "6/6 [==============================] - 0s 5ms/step - loss: 0.7483 - acc: 0.7500\n"
          ],
          "name": "stdout"
        }
      ]
    },
    {
      "cell_type": "code",
      "metadata": {
        "id": "hjDkgtjcGlI4"
      },
      "source": [
        "# import matplotlib.pyplot as plt\n",
        "# import pandas as pd\n",
        "# from itertools import product\n",
        "# from sklearn.metrics import classification_report, confusion_matrix\n",
        "# import numpy as np\n",
        "\n",
        "# y_test_non_category = [ np.argmax(t) for t in Y_test ]\n",
        "# y_predict= [ np.argmax(t) for t in model.predict(X_test) ]\n",
        "# cf= confusion_matrix(y_test_non_category, y_predict)\n",
        "# print(cf)\n",
        "\n",
        "\n",
        "# print(np.bincount(y_predict))\n",
        "\n",
        "# exp_series = pd.Series(Y_valid)\n",
        "# pred_series=pd.Series(y_predict)\n",
        "\n",
        "# plt.imshow(cf,cmap=plt.cm.Blues,interpolation='nearest')\n",
        "# plt.colorbar()\n",
        "# plt.title('Confusion Matrix Trash NN')\n",
        "# plt.xlabel('Predicted')\n",
        "# plt.ylabel('Actual')\n",
        "# tick_marks = np.arange(len(set(exp_series))) # length of classes\n",
        "# class_labels = ['cardboard','glass','metal','papel','plastico','basura']\n",
        "# tick_marks\n",
        "# plt.xticks(tick_marks,class_labels,rotation=-45)\n",
        "# plt.yticks(tick_marks,class_labels)\n",
        "# # plotting text value inside cells\n",
        "# thresh = cf.max() / 2.\n",
        "# for i,j in product(range(cf.shape[0]),range(cf.shape[1])):\n",
        "#     plt.text(j,i,format(cf[i,j],'d'),horizontalalignment='center',color='white' if cf[i,j] >thresh else 'black')\n",
        "# plt.savefig('/content/drive/My Drive/basura/modelo_reciente_12000/matrix_confusion_red.png')\n",
        "# plt.show();"
      ],
      "execution_count": null,
      "outputs": []
    },
    {
      "cell_type": "code",
      "metadata": {
        "id": "m7brX3TFK0NX",
        "colab": {
          "base_uri": "https://localhost:8080/",
          "height": 1000
        },
        "outputId": "15576f10-08a8-4685-9b74-217a3f620a21"
      },
      "source": [
        "import matplotlib.pyplot as plt\n",
        "import pandas as pd\n",
        "from itertools import product\n",
        "from sklearn.metrics import classification_report, confusion_matrix\n",
        "import numpy as np\n",
        "\n",
        "y_test_non_category = Y_valid\n",
        "y_predict= [ np.argmax(t) for t in ynew ]\n",
        "cf= confusion_matrix(y_test_non_category,y_predict)\n",
        "print(cf)\n",
        "cm1 = ConfusionMatrix(actual_vector=y_test_non_category, predict_vector=y_predict)\n",
        "print(cm1)\n",
        "print(cm1.position())\n",
        "cm1.save_html(\"/content/drive/My Drive/basura/cm1\")\n",
        "print(np.bincount(y_predict))\n",
        "\n",
        "exp_series = pd.Series(Y_valid)\n",
        "pred_series=pd.Series(y_predict)\n",
        "\n",
        "plt.imshow(cf,cmap=plt.cm.Blues,interpolation='nearest')\n",
        "plt.colorbar()\n",
        "plt.title('Confusion Matrix of Solid Waste - Validation')\n",
        "plt.xlabel('Predicted')\n",
        "plt.ylabel('Actual')\n",
        "tick_marks = np.arange(len(set(exp_series))) # length of classes\n",
        "class_labels = ['Cardboard','Glass','Metal','Paper','Plastic','Rubbish']\n",
        "tick_marks\n",
        "plt.xticks(tick_marks,class_labels,rotation=-40)\n",
        "plt.yticks(tick_marks,class_labels)\n",
        "# plotting text value inside cells\n",
        "thresh = cf.max() / 2.\n",
        "for i,j in product(range(cf.shape[0]),range(cf.shape[1])):\n",
        "    plt.text(j,i,format(cf[i,j],'d'),horizontalalignment='center',color='white' if cf[i,j] >thresh else 'black')\n",
        "plt.savefig('/content/drive/My Drive/basura/modelo_reciente_12000/matrix_confusion_validacion.png')\n",
        "plt.show();"
      ],
      "execution_count": null,
      "outputs": [
        {
          "output_type": "stream",
          "text": [
            "[[9 0 0 0 0 1]\n",
            " [1 7 2 0 0 0]\n",
            " [2 1 7 0 0 0]\n",
            " [0 0 1 9 0 0]\n",
            " [2 2 0 0 6 0]\n",
            " [3 0 1 1 0 5]]\n",
            "Predict 0       1       2       3       4       5       \n",
            "Actual\n",
            "0       9       0       0       0       0       1       \n",
            "\n",
            "1       1       7       2       0       0       0       \n",
            "\n",
            "2       2       1       7       0       0       0       \n",
            "\n",
            "3       0       0       1       9       0       0       \n",
            "\n",
            "4       2       2       0       0       6       0       \n",
            "\n",
            "5       3       0       1       1       0       5       \n",
            "\n",
            "\n",
            "\n",
            "\n",
            "\n",
            "Overall Statistics : \n",
            "\n",
            "95% CI                                                            (0.60264,0.83069)\n",
            "ACC Macro                                                         0.90556\n",
            "ARI                                                               0.40549\n",
            "AUNP                                                              0.83\n",
            "AUNU                                                              0.83\n",
            "Bangdiwala B                                                      0.535\n",
            "Bennett S                                                         0.66\n",
            "CBA                                                               0.6443\n",
            "CSI                                                               0.48318\n",
            "Chi-Squared                                                       148.54118\n",
            "Chi-Squared DF                                                    25\n",
            "Conditional Entropy                                               1.05133\n",
            "Cramer V                                                          0.70366\n",
            "Cross Entropy                                                     2.68011\n",
            "F1 Macro                                                          0.71806\n",
            "F1 Micro                                                          0.71667\n",
            "FNR Macro                                                         0.28333\n",
            "FNR Micro                                                         0.28333\n",
            "FPR Macro                                                         0.05667\n",
            "FPR Micro                                                         0.05667\n",
            "Gwet AC1                                                          0.66046\n",
            "Hamming Loss                                                      0.28333\n",
            "Joint Entropy                                                     3.63629\n",
            "KL Divergence                                                     0.09515\n",
            "Kappa                                                             0.66\n",
            "Kappa 95% CI                                                      (0.52317,0.79683)\n",
            "Kappa No Prevalence                                               0.43333\n",
            "Kappa Standard Error                                              0.06981\n",
            "Kappa Unbiased                                                    0.65766\n",
            "Krippendorff Alpha                                                0.66051\n",
            "Lambda A                                                          0.66\n",
            "Lambda B                                                          0.60465\n",
            "Mutual Information                                                1.43892\n",
            "NIR                                                               0.16667\n",
            "Overall ACC                                                       0.71667\n",
            "Overall CEN                                                       0.30757\n",
            "Overall J                                                         (3.41119,0.56853)\n",
            "Overall MCC                                                       0.66921\n",
            "Overall MCEN                                                      0.39813\n",
            "Overall RACC                                                      0.16667\n",
            "Overall RACCU                                                     0.17236\n",
            "P-Value                                                           -0.0\n",
            "PPV Macro                                                         0.76652\n",
            "PPV Micro                                                         0.71667\n",
            "Pearson C                                                         0.84397\n",
            "Phi-Squared                                                       2.47569\n",
            "RCI                                                               0.55665\n",
            "RR                                                                10.0\n",
            "Reference Entropy                                                 2.58496\n",
            "Response Entropy                                                  2.49025\n",
            "SOA1(Landis & Koch)                                               Substantial\n",
            "SOA2(Fleiss)                                                      Intermediate to Good\n",
            "SOA3(Altman)                                                      Good\n",
            "SOA4(Cicchetti)                                                   Good\n",
            "SOA5(Cramer)                                                      Strong\n",
            "SOA6(Matthews)                                                    Moderate\n",
            "Scott PI                                                          0.65766\n",
            "Standard Error                                                    0.05817\n",
            "TNR Macro                                                         0.94333\n",
            "TNR Micro                                                         0.94333\n",
            "TPR Macro                                                         0.71667\n",
            "TPR Micro                                                         0.71667\n",
            "Zero-one Loss                                                     17\n",
            "\n",
            "Class Statistics :\n",
            "\n",
            "Classes                                                           0             1             2             3             4             5             \n",
            "ACC(Accuracy)                                                     0.85          0.9           0.88333       0.96667       0.93333       0.9           \n",
            "AGF(Adjusted F-score)                                             0.86418       0.81117       0.80102       0.93915       0.78291       0.70751       \n",
            "AGM(Adjusted geometric mean)                                      0.85608       0.86973       0.85591       0.95772       0.87705       0.82727       \n",
            "AM(Difference between automatic and manual classification)        7             0             1             0             -4            -4            \n",
            "AUC(Area under the ROC curve)                                     0.87          0.82          0.81          0.94          0.8           0.74          \n",
            "AUCI(AUC value interpretation)                                    Very Good     Very Good     Very Good     Excellent     Very Good     Good          \n",
            "AUPR(Area under the PR curve)                                     0.71471       0.7           0.66818       0.9           0.8           0.66667       \n",
            "BCD(Bray-Curtis dissimilarity)                                    0.05833       0.0           0.00833       0.0           0.03333       0.03333       \n",
            "BM(Informedness or bookmaker informedness)                        0.74          0.64          0.62          0.88          0.6           0.48          \n",
            "CEN(Confusion entropy)                                            0.37951       0.3301        0.3834        0.1301        0.22577       0.36208       \n",
            "DOR(Diagnostic odds ratio)                                        47.25         36.55556      26.83333      441.0         None          49.0          \n",
            "DP(Discriminant power)                                            0.92315       0.8617        0.78767       1.45796       None          0.93185       \n",
            "DPI(Discriminant power interpretation)                            Poor          Poor          Poor          Limited       None          Poor          \n",
            "ERR(Error rate)                                                   0.15          0.1           0.11667       0.03333       0.06667       0.1           \n",
            "F0.5(F0.5 score)                                                  0.57692       0.7           0.64815       0.9           0.88235       0.73529       \n",
            "F1(F1 score - harmonic mean of precision and sensitivity)         0.66667       0.7           0.66667       0.9           0.75          0.625         \n",
            "F2(F2 score)                                                      0.78947       0.7           0.68627       0.9           0.65217       0.54348       \n",
            "FDR(False discovery rate)                                         0.47059       0.3           0.36364       0.1           0.0           0.16667       \n",
            "FN(False negative/miss/type 2 error)                              1             3             3             1             4             5             \n",
            "FNR(Miss rate or false negative rate)                             0.1           0.3           0.3           0.1           0.4           0.5           \n",
            "FOR(False omission rate)                                          0.02326       0.06          0.06122       0.02          0.07407       0.09259       \n",
            "FP(False positive/type 1 error/false alarm)                       8             3             4             1             0             1             \n",
            "FPR(Fall-out or false positive rate)                              0.16          0.06          0.08          0.02          0.0           0.02          \n",
            "G(G-measure geometric mean of precision and sensitivity)          0.69027       0.7           0.66742       0.9           0.7746        0.6455        \n",
            "GI(Gini index)                                                    0.74          0.64          0.62          0.88          0.6           0.48          \n",
            "GM(G-mean geometric mean of specificity and sensitivity)          0.86948       0.81117       0.8025        0.93915       0.7746        0.7           \n",
            "IBA(Index of balanced accuracy)                                   0.80136       0.50008       0.50232       0.81144       0.36          0.2548        \n",
            "ICSI(Individual classification success index)                     0.42941       0.4           0.33636       0.8           0.6           0.33333       \n",
            "IS(Information score)                                             1.66742       2.07039       1.93289       2.43296       2.58496       2.32193       \n",
            "J(Jaccard index)                                                  0.5           0.53846       0.5           0.81818       0.6           0.45455       \n",
            "LS(Lift score)                                                    3.17647       4.2           3.81818       5.4           6.0           5.0           \n",
            "MCC(Matthews correlation coefficient)                             0.61201       0.64          0.59715       0.88          0.74536       0.59628       \n",
            "MCCI(Matthews correlation coefficient interpretation)             Moderate      Moderate      Moderate      Strong        Strong        Moderate      \n",
            "MCEN(Modified confusion entropy)                                  0.48122       0.4215        0.48706       0.18934       0.27959       0.43791       \n",
            "MK(Markedness)                                                    0.50616       0.64          0.57514       0.88          0.92593       0.74074       \n",
            "N(Condition negative)                                             50            50            50            50            50            50            \n",
            "NLR(Negative likelihood ratio)                                    0.11905       0.31915       0.32609       0.10204       0.4           0.5102        \n",
            "NLRI(Negative likelihood ratio interpretation)                    Fair          Poor          Poor          Fair          Poor          Negligible    \n",
            "NPV(Negative predictive value)                                    0.97674       0.94          0.93878       0.98          0.92593       0.90741       \n",
            "OC(Overlap coefficient)                                           0.9           0.7           0.7           0.9           1.0           0.83333       \n",
            "OOC(Otsuka-Ochiai coefficient)                                    0.69027       0.7           0.66742       0.9           0.7746        0.6455        \n",
            "OP(Optimized precision)                                           0.81552       0.75366       0.74753       0.92411       0.68333       0.57568       \n",
            "P(Condition positive or support)                                  10            10            10            10            10            10            \n",
            "PLR(Positive likelihood ratio)                                    5.625         11.66667      8.75          45.0          None          25.0          \n",
            "PLRI(Positive likelihood ratio interpretation)                    Fair          Good          Fair          Good          None          Good          \n",
            "POP(Population)                                                   60            60            60            60            60            60            \n",
            "PPV(Precision or positive predictive value)                       0.52941       0.7           0.63636       0.9           1.0           0.83333       \n",
            "PRE(Prevalence)                                                   0.16667       0.16667       0.16667       0.16667       0.16667       0.16667       \n",
            "Q(Yule Q - coefficient of colligation)                            0.95855       0.94675       0.92814       0.99548       None          0.96          \n",
            "QI(Yule Q interpretation)                                         Strong        Strong        Strong        Strong        None          Strong        \n",
            "RACC(Random accuracy)                                             0.04722       0.02778       0.03056       0.02778       0.01667       0.01667       \n",
            "RACCU(Random accuracy unbiased)                                   0.05062       0.02778       0.03062       0.02778       0.01778       0.01778       \n",
            "TN(True negative/correct rejection)                               42            47            46            49            50            49            \n",
            "TNR(Specificity or true negative rate)                            0.84          0.94          0.92          0.98          1.0           0.98          \n",
            "TON(Test outcome negative)                                        43            50            49            50            54            54            \n",
            "TOP(Test outcome positive)                                        17            10            11            10            6             6             \n",
            "TP(True positive/hit)                                             9             7             7             9             6             5             \n",
            "TPR(Sensitivity, recall, hit rate, or true positive rate)         0.9           0.7           0.7           0.9           0.6           0.5           \n",
            "Y(Youden index)                                                   0.74          0.64          0.62          0.88          0.6           0.48          \n",
            "dInd(Distance index)                                              0.18868       0.30594       0.31048       0.10198       0.4           0.5004        \n",
            "sInd(Similarity index)                                            0.86658       0.78367       0.78046       0.92789       0.71716       0.64616       \n",
            "\n",
            "{'0': {'TP': [1, 2, 3, 4, 5, 6, 7, 8, 9], 'FP': [18, 21, 28, 44, 48, 50, 51, 56], 'TN': [10, 11, 12, 13, 14, 15, 16, 17, 19, 20, 22, 23, 24, 25, 26, 27, 29, 30, 31, 32, 33, 34, 35, 36, 37, 38, 39, 40, 41, 42, 43, 45, 46, 47, 49, 52, 53, 54, 55, 57, 58, 59], 'FN': [0]}, '1': {'TP': [10, 12, 13, 14, 15, 17, 19], 'FP': [22, 40, 47], 'TN': [0, 1, 2, 3, 4, 5, 6, 7, 8, 9, 20, 21, 23, 24, 25, 26, 27, 28, 29, 30, 31, 32, 33, 34, 35, 36, 37, 38, 39, 41, 42, 43, 44, 45, 46, 48, 49, 50, 51, 52, 53, 54, 55, 56, 57, 58, 59], 'FN': [11, 16, 18]}, '2': {'TP': [20, 23, 24, 25, 26, 27, 29], 'FP': [11, 16, 38, 53], 'TN': [0, 1, 2, 3, 4, 5, 6, 7, 8, 9, 10, 12, 13, 14, 15, 17, 18, 19, 30, 31, 32, 33, 34, 35, 36, 37, 39, 40, 41, 42, 43, 44, 45, 46, 47, 48, 49, 50, 51, 52, 54, 55, 56, 57, 58, 59], 'FN': [21, 22, 28]}, '3': {'TP': [30, 31, 32, 33, 34, 35, 36, 37, 39], 'FP': [54], 'TN': [0, 1, 2, 3, 4, 5, 6, 7, 8, 9, 10, 11, 12, 13, 14, 15, 16, 17, 18, 19, 20, 21, 22, 23, 24, 25, 26, 27, 28, 29, 40, 41, 42, 43, 44, 45, 46, 47, 48, 49, 50, 51, 52, 53, 55, 56, 57, 58, 59], 'FN': [38]}, '4': {'TP': [41, 42, 43, 45, 46, 49], 'FP': [], 'TN': [0, 1, 2, 3, 4, 5, 6, 7, 8, 9, 10, 11, 12, 13, 14, 15, 16, 17, 18, 19, 20, 21, 22, 23, 24, 25, 26, 27, 28, 29, 30, 31, 32, 33, 34, 35, 36, 37, 38, 39, 50, 51, 52, 53, 54, 55, 56, 57, 58, 59], 'FN': [40, 44, 47, 48]}, '5': {'TP': [52, 55, 57, 58, 59], 'FP': [0], 'TN': [1, 2, 3, 4, 5, 6, 7, 8, 9, 10, 11, 12, 13, 14, 15, 16, 17, 18, 19, 20, 21, 22, 23, 24, 25, 26, 27, 28, 29, 30, 31, 32, 33, 34, 35, 36, 37, 38, 39, 40, 41, 42, 43, 44, 45, 46, 47, 48, 49], 'FN': [50, 51, 53, 54, 56]}}\n",
            "[17 10 11 10  6  6]\n"
          ],
          "name": "stdout"
        },
        {
          "output_type": "display_data",
          "data": {
            "image/png": "[encoded data removed]",
            "text/plain": [
              "<Figure size 432x288 with 2 Axes>"
            ]
          },
          "metadata": {
            "tags": [],
            "needs_background": "light"
          }
        }
      ]
    },
    {
      "cell_type": "code",
      "metadata": {
        "id": "2oKHkEzJ00be",
        "colab": {
          "base_uri": "https://localhost:8080/",
          "height": 51
        },
        "outputId": "225b39c6-e322-4334-8687-effead23f5fb"
      },
      "source": [
        "dir_f_2='../content/drive/My Drive/basura/batch/clasificacion_basura'\n",
        "\n",
        "train_generator_2400=train.flow_from_directory(dir_f_2,\n",
        "                                          target_size=(200,200),\n",
        "                                          batch_size=32,\n",
        "                                          class_mode='categorical',\n",
        "                                          subset='training',seed=10)\n",
        "\n",
        "test_generator_2400=test.flow_from_directory(dir_f_2,\n",
        "                                        target_size=(200,200),\n",
        "                                        batch_size=32,\n",
        "                                        class_mode='categorical',\n",
        "                                        subset='validation',seed=10)\n"
      ],
      "execution_count": null,
      "outputs": [
        {
          "output_type": "stream",
          "text": [
            "Found 2160 images belonging to 6 classes.\n",
            "Found 240 images belonging to 6 classes.\n"
          ],
          "name": "stdout"
        }
      ]
    },
    {
      "cell_type": "code",
      "metadata": {
        "id": "09AsZJnPqcmo",
        "colab": {
          "base_uri": "https://localhost:8080/",
          "height": 1000
        },
        "outputId": "993de92a-7422-4beb-8e1f-a8bab5418732"
      },
      "source": [
        "spit_data=0.1\n",
        "with tf.device('/device:GPU:0'):\n",
        "    #opt = tf.keras.optimizers.Adam(learning_rate=0.001)\n",
        "    model.compile(loss='categorical_crossentropy', optimizer=\"adam\", metrics=['acc'])\n",
        "    # history=model.fit(X_train,Y_train,validation_data=(X_test,Y_test), batch_size=130, epochs=40,verbose=1,callbacks=callbacks_list)\n",
        "    # history=model.fit_generator(trained_data,steps_per_epoch=len(X_train)//32,validation_data=test_data,validation_steps=550//32,epochs=50,verbose=1)\n",
        "    history2=model.fit(train_generator_2400,\n",
        "                                 epochs=40,\n",
        "                                 steps_per_epoch=(len(img_list2)*(1-spit_data))//32,\n",
        "                                 validation_data=test_generator_2400,\n",
        "                                 validation_steps=(len(img_list2)*(spit_data))//32,\n",
        "                                 callbacks=callbacks_list2) \n",
        "    \n",
        "    # history=model.fit_generator(train_generator,\n",
        "    #                              epochs=40,\n",
        "    #                              steps_per_epoch=(len(img_list)*(1-spit_data))//32,\n",
        "    #                              validation_data=test_generator,\n",
        "    #                              validation_steps=(len(img_list)*(spit_data))//32,\n",
        "    #                              workers = 4,\n",
        "    #                              callbacks=callbacks_list) \n",
        "    # scores = model.evaluate(X_test,Y_test,verbose=1,batch_size=30)\n",
        "    # print(\"Large CNN Error: {0:.4f}% accuracy:{1:.4f}%\".format((100-scores[1] * 100),scores[1]*100))\n",
        "\n",
        "    model_json = model.to_json()\n",
        "    with open(\"/content/drive/My Drive/basura/mode_2400/model_t.json\",\"w\") as json_file:\n",
        "        json_file.write(model_json)\n",
        "    model.save_weights('/content/drive/My Drive/basura/mode_2400/model_last.h5')\n"
      ],
      "execution_count": null,
      "outputs": [
        {
          "output_type": "stream",
          "text": [
            "Epoch 1/40\n",
            "67/67 [==============================] - ETA: 0s - loss: 1.7892 - acc: 0.1856 \n",
            "Epoch 00001: val_acc improved from -inf to 0.26339, saving model to /content/drive/My Drive/basura/mode_2400/model_best.h5\n",
            "67/67 [==============================] - 1266s 19s/step - loss: 1.7892 - acc: 0.1856 - val_loss: 1.7223 - val_acc: 0.2634\n",
            "Epoch 2/40\n",
            "67/67 [==============================] - ETA: 0s - loss: 1.7348 - acc: 0.2232\n",
            "Epoch 00002: val_acc improved from 0.26339 to 0.28125, saving model to /content/drive/My Drive/basura/mode_2400/model_best.h5\n",
            "67/67 [==============================] - 139s 2s/step - loss: 1.7348 - acc: 0.2232 - val_loss: 1.6165 - val_acc: 0.2812\n",
            "Epoch 3/40\n",
            "67/67 [==============================] - ETA: 0s - loss: 1.6070 - acc: 0.3148\n",
            "Epoch 00003: val_acc improved from 0.28125 to 0.37946, saving model to /content/drive/My Drive/basura/mode_2400/model_best.h5\n",
            "67/67 [==============================] - 138s 2s/step - loss: 1.6070 - acc: 0.3148 - val_loss: 1.4740 - val_acc: 0.3795\n",
            "Epoch 4/40\n",
            "67/67 [==============================] - ETA: 0s - loss: 1.5629 - acc: 0.3534\n",
            "Epoch 00004: val_acc did not improve from 0.37946\n",
            "67/67 [==============================] - 139s 2s/step - loss: 1.5629 - acc: 0.3534 - val_loss: 1.7525 - val_acc: 0.2545\n",
            "Epoch 5/40\n",
            "67/67 [==============================] - ETA: 0s - loss: 1.4623 - acc: 0.4196\n",
            "Epoch 00005: val_acc did not improve from 0.37946\n",
            "67/67 [==============================] - 137s 2s/step - loss: 1.4623 - acc: 0.4196 - val_loss: 2.2148 - val_acc: 0.2545\n",
            "Epoch 6/40\n",
            "67/67 [==============================] - ETA: 0s - loss: 1.3915 - acc: 0.4328\n",
            "Epoch 00006: val_acc improved from 0.37946 to 0.40625, saving model to /content/drive/My Drive/basura/mode_2400/model_best.h5\n",
            "67/67 [==============================] - 138s 2s/step - loss: 1.3915 - acc: 0.4328 - val_loss: 1.8629 - val_acc: 0.4062\n",
            "Epoch 7/40\n",
            "67/67 [==============================] - ETA: 0s - loss: 1.3353 - acc: 0.4812\n",
            "Epoch 00007: val_acc did not improve from 0.40625\n",
            "67/67 [==============================] - 139s 2s/step - loss: 1.3353 - acc: 0.4812 - val_loss: 1.9084 - val_acc: 0.3973\n",
            "Epoch 8/40\n",
            "67/67 [==============================] - ETA: 0s - loss: 1.3174 - acc: 0.4807\n",
            "Epoch 00008: val_acc did not improve from 0.40625\n",
            "67/67 [==============================] - 137s 2s/step - loss: 1.3174 - acc: 0.4807 - val_loss: 1.6744 - val_acc: 0.3438\n",
            "Epoch 9/40\n",
            "67/67 [==============================] - ETA: 0s - loss: 1.3263 - acc: 0.4803\n",
            "Epoch 00009: val_acc improved from 0.40625 to 0.41964, saving model to /content/drive/My Drive/basura/mode_2400/model_best.h5\n",
            "67/67 [==============================] - 138s 2s/step - loss: 1.3263 - acc: 0.4803 - val_loss: 1.6583 - val_acc: 0.4196\n",
            "Epoch 10/40\n",
            "67/67 [==============================] - ETA: 0s - loss: 1.2988 - acc: 0.4986\n",
            "Epoch 00010: val_acc did not improve from 0.41964\n",
            "67/67 [==============================] - 137s 2s/step - loss: 1.2988 - acc: 0.4986 - val_loss: 1.7929 - val_acc: 0.3482\n",
            "Epoch 11/40\n",
            "67/67 [==============================] - ETA: 0s - loss: 1.2446 - acc: 0.5240\n",
            "Epoch 00011: val_acc improved from 0.41964 to 0.47768, saving model to /content/drive/My Drive/basura/mode_2400/model_best.h5\n",
            "67/67 [==============================] - 137s 2s/step - loss: 1.2446 - acc: 0.5240 - val_loss: 1.6962 - val_acc: 0.4777\n",
            "Epoch 12/40\n",
            "67/67 [==============================] - ETA: 0s - loss: 1.2502 - acc: 0.5268\n",
            "Epoch 00012: val_acc did not improve from 0.47768\n",
            "67/67 [==============================] - 138s 2s/step - loss: 1.2502 - acc: 0.5268 - val_loss: 1.7176 - val_acc: 0.4241\n",
            "Epoch 13/40\n",
            "67/67 [==============================] - ETA: 0s - loss: 1.2036 - acc: 0.5409\n",
            "Epoch 00013: val_acc did not improve from 0.47768\n",
            "67/67 [==============================] - 136s 2s/step - loss: 1.2036 - acc: 0.5409 - val_loss: 1.8128 - val_acc: 0.4152\n",
            "Epoch 14/40\n",
            "67/67 [==============================] - ETA: 0s - loss: 1.2150 - acc: 0.5301\n",
            "Epoch 00014: val_acc did not improve from 0.47768\n",
            "67/67 [==============================] - 138s 2s/step - loss: 1.2150 - acc: 0.5301 - val_loss: 2.0366 - val_acc: 0.3929\n",
            "Epoch 15/40\n",
            "67/67 [==============================] - ETA: 0s - loss: 1.2178 - acc: 0.5508\n",
            "Epoch 00015: val_acc did not improve from 0.47768\n",
            "67/67 [==============================] - 136s 2s/step - loss: 1.2178 - acc: 0.5508 - val_loss: 1.5896 - val_acc: 0.4375\n",
            "Epoch 16/40\n",
            "67/67 [==============================] - ETA: 0s - loss: 1.1396 - acc: 0.5691\n",
            "Epoch 00016: val_acc did not improve from 0.47768\n",
            "67/67 [==============================] - 136s 2s/step - loss: 1.1396 - acc: 0.5691 - val_loss: 1.4830 - val_acc: 0.4598\n",
            "Epoch 17/40\n",
            "67/67 [==============================] - ETA: 0s - loss: 1.1415 - acc: 0.5644\n",
            "Epoch 00017: val_acc improved from 0.47768 to 0.51786, saving model to /content/drive/My Drive/basura/mode_2400/model_best.h5\n",
            "67/67 [==============================] - 138s 2s/step - loss: 1.1415 - acc: 0.5644 - val_loss: 1.6751 - val_acc: 0.5179\n",
            "Epoch 18/40\n",
            "67/67 [==============================] - ETA: 0s - loss: 1.1144 - acc: 0.5691\n",
            "Epoch 00018: val_acc did not improve from 0.51786\n",
            "67/67 [==============================] - 137s 2s/step - loss: 1.1144 - acc: 0.5691 - val_loss: 1.4801 - val_acc: 0.4509\n",
            "Epoch 19/40\n",
            "67/67 [==============================] - ETA: 0s - loss: 1.0901 - acc: 0.5874\n",
            "Epoch 00019: val_acc did not improve from 0.51786\n",
            "67/67 [==============================] - 137s 2s/step - loss: 1.0901 - acc: 0.5874 - val_loss: 1.3842 - val_acc: 0.4420\n",
            "Epoch 20/40\n",
            "67/67 [==============================] - ETA: 0s - loss: 1.0831 - acc: 0.5865\n",
            "Epoch 00020: val_acc did not improve from 0.51786\n",
            "67/67 [==============================] - 137s 2s/step - loss: 1.0831 - acc: 0.5865 - val_loss: 1.6202 - val_acc: 0.4286\n",
            "Epoch 21/40\n",
            "67/67 [==============================] - ETA: 0s - loss: 1.0941 - acc: 0.5789\n",
            "Epoch 00021: val_acc did not improve from 0.51786\n",
            "67/67 [==============================] - 137s 2s/step - loss: 1.0941 - acc: 0.5789 - val_loss: 1.8343 - val_acc: 0.4330\n",
            "Epoch 22/40\n",
            "67/67 [==============================] - ETA: 0s - loss: 1.0553 - acc: 0.6039\n",
            "Epoch 00022: val_acc did not improve from 0.51786\n",
            "67/67 [==============================] - 137s 2s/step - loss: 1.0553 - acc: 0.6039 - val_loss: 2.1501 - val_acc: 0.3795\n",
            "Epoch 23/40\n",
            "67/67 [==============================] - ETA: 0s - loss: 1.0403 - acc: 0.6043\n",
            "Epoch 00023: val_acc did not improve from 0.51786\n",
            "67/67 [==============================] - 137s 2s/step - loss: 1.0403 - acc: 0.6043 - val_loss: 1.8071 - val_acc: 0.4598\n",
            "Epoch 24/40\n",
            "67/67 [==============================] - ETA: 0s - loss: 1.0353 - acc: 0.6222\n",
            "Epoch 00024: val_acc did not improve from 0.51786\n",
            "67/67 [==============================] - 137s 2s/step - loss: 1.0353 - acc: 0.6222 - val_loss: 1.7098 - val_acc: 0.4598\n",
            "Epoch 25/40\n",
            "67/67 [==============================] - ETA: 0s - loss: 1.0161 - acc: 0.6306\n",
            "Epoch 00025: val_acc did not improve from 0.51786\n",
            "67/67 [==============================] - 139s 2s/step - loss: 1.0161 - acc: 0.6306 - val_loss: 1.4463 - val_acc: 0.4420\n",
            "Epoch 26/40\n",
            "67/67 [==============================] - ETA: 0s - loss: 1.0140 - acc: 0.6255\n",
            "Epoch 00026: val_acc did not improve from 0.51786\n",
            "67/67 [==============================] - 137s 2s/step - loss: 1.0140 - acc: 0.6255 - val_loss: 1.6174 - val_acc: 0.4777\n",
            "Epoch 27/40\n",
            "67/67 [==============================] - ETA: 0s - loss: 1.0443 - acc: 0.6128\n",
            "Epoch 00027: val_acc did not improve from 0.51786\n",
            "67/67 [==============================] - 137s 2s/step - loss: 1.0443 - acc: 0.6128 - val_loss: 1.7064 - val_acc: 0.4509\n",
            "Epoch 28/40\n",
            "67/67 [==============================] - ETA: 0s - loss: 1.0537 - acc: 0.6133\n",
            "Epoch 00028: val_acc did not improve from 0.51786\n",
            "67/67 [==============================] - 137s 2s/step - loss: 1.0537 - acc: 0.6133 - val_loss: 1.8679 - val_acc: 0.4464\n",
            "Epoch 29/40\n",
            "67/67 [==============================] - ETA: 0s - loss: 1.0190 - acc: 0.6212\n",
            "Epoch 00029: val_acc did not improve from 0.51786\n",
            "67/67 [==============================] - 137s 2s/step - loss: 1.0190 - acc: 0.6212 - val_loss: 1.5063 - val_acc: 0.4821\n",
            "Epoch 30/40\n",
            "67/67 [==============================] - ETA: 0s - loss: 1.0089 - acc: 0.6259\n",
            "Epoch 00030: val_acc did not improve from 0.51786\n",
            "67/67 [==============================] - 137s 2s/step - loss: 1.0089 - acc: 0.6259 - val_loss: 1.5253 - val_acc: 0.4464\n",
            "Epoch 31/40\n",
            "67/67 [==============================] - ETA: 0s - loss: 0.9813 - acc: 0.6414\n",
            "Epoch 00031: val_acc did not improve from 0.51786\n",
            "67/67 [==============================] - 137s 2s/step - loss: 0.9813 - acc: 0.6414 - val_loss: 1.6565 - val_acc: 0.4152\n",
            "Epoch 32/40\n",
            "67/67 [==============================] - ETA: 0s - loss: 0.9671 - acc: 0.6396\n",
            "Epoch 00032: val_acc did not improve from 0.51786\n",
            "67/67 [==============================] - 136s 2s/step - loss: 0.9671 - acc: 0.6396 - val_loss: 1.8762 - val_acc: 0.4286\n",
            "Epoch 33/40\n",
            "67/67 [==============================] - ETA: 0s - loss: 0.9778 - acc: 0.6405\n",
            "Epoch 00033: val_acc did not improve from 0.51786\n",
            "67/67 [==============================] - 137s 2s/step - loss: 0.9778 - acc: 0.6405 - val_loss: 1.6493 - val_acc: 0.4732\n",
            "Epoch 34/40\n",
            "67/67 [==============================] - ETA: 0s - loss: 0.9407 - acc: 0.6546\n",
            "Epoch 00034: val_acc did not improve from 0.51786\n",
            "67/67 [==============================] - 138s 2s/step - loss: 0.9407 - acc: 0.6546 - val_loss: 1.5882 - val_acc: 0.4107\n",
            "Epoch 35/40\n",
            "67/67 [==============================] - ETA: 0s - loss: 0.9724 - acc: 0.6508\n",
            "Epoch 00035: val_acc did not improve from 0.51786\n",
            "67/67 [==============================] - 136s 2s/step - loss: 0.9724 - acc: 0.6508 - val_loss: 1.5832 - val_acc: 0.5045\n",
            "Epoch 36/40\n",
            "67/67 [==============================] - ETA: 0s - loss: 0.9258 - acc: 0.6588\n",
            "Epoch 00036: val_acc did not improve from 0.51786\n",
            "67/67 [==============================] - 138s 2s/step - loss: 0.9258 - acc: 0.6588 - val_loss: 1.9367 - val_acc: 0.4062\n",
            "Epoch 37/40\n",
            "67/67 [==============================] - ETA: 0s - loss: 0.8939 - acc: 0.6711\n",
            "Epoch 00037: val_acc did not improve from 0.51786\n",
            "67/67 [==============================] - 137s 2s/step - loss: 0.8939 - acc: 0.6711 - val_loss: 1.4987 - val_acc: 0.5045\n",
            "Epoch 38/40\n",
            "67/67 [==============================] - ETA: 0s - loss: 0.9126 - acc: 0.6720\n",
            "Epoch 00038: val_acc improved from 0.51786 to 0.55357, saving model to /content/drive/My Drive/basura/mode_2400/model_best.h5\n",
            "67/67 [==============================] - 139s 2s/step - loss: 0.9126 - acc: 0.6720 - val_loss: 1.3887 - val_acc: 0.5536\n",
            "Epoch 39/40\n",
            "67/67 [==============================] - ETA: 0s - loss: 0.8853 - acc: 0.6721\n",
            "Epoch 00039: val_acc did not improve from 0.55357\n",
            "67/67 [==============================] - 139s 2s/step - loss: 0.8853 - acc: 0.6721 - val_loss: 1.4380 - val_acc: 0.5357\n",
            "Epoch 40/40\n",
            "67/67 [==============================] - ETA: 0s - loss: 0.9109 - acc: 0.6588\n",
            "Epoch 00040: val_acc did not improve from 0.55357\n",
            "67/67 [==============================] - 137s 2s/step - loss: 0.9109 - acc: 0.6588 - val_loss: 1.4826 - val_acc: 0.4777\n"
          ],
          "name": "stdout"
        }
      ]
    },
    {
      "cell_type": "code",
      "metadata": {
        "id": "puWnP6cDpF7s"
      },
      "source": [
        "import matplotlib.pyplot as plt"
      ],
      "execution_count": null,
      "outputs": []
    },
    {
      "cell_type": "code",
      "metadata": {
        "id": "wSq_oU4crYve",
        "colab": {
          "base_uri": "https://localhost:8080/",
          "height": 295
        },
        "outputId": "6285926f-53ca-4197-a484-0204d447a572"
      },
      "source": [
        "plt.plot(history2.history['acc'])\n",
        "plt.plot(history2.history['val_acc'])\n",
        "plt.title('Model accuracy')\n",
        "plt.ylabel('Accuracy')\n",
        "plt.xlabel('Epoch')\n",
        "plt.legend(['Train','Test'], loc='upper left')\n",
        "plt.savefig('/content/drive/My Drive/basura/mode_2400/accuracy.png')\n",
        "plt.show()"
      ],
      "execution_count": null,
      "outputs": [
        {
          "output_type": "display_data",
          "data": {
            "image/png": "[encoded data removed]",
            "text/plain": [
              "<Figure size 432x288 with 1 Axes>"
            ]
          },
          "metadata": {
            "tags": [],
            "needs_background": "light"
          }
        }
      ]
    },
    {
      "cell_type": "code",
      "metadata": {
        "id": "-G_dPjd_u-H3",
        "colab": {
          "base_uri": "https://localhost:8080/",
          "height": 295
        },
        "outputId": "a2824d86-9c12-4def-e1f7-33349a855845"
      },
      "source": [
        "plt.plot(history2.history['loss'])\n",
        "plt.plot(history2.history['val_loss'])\n",
        "plt.title('Model loss')\n",
        "plt.ylabel('Loss')\n",
        "plt.xlabel('Epoch')\n",
        "plt.legend(['Train','Test'], loc='upper left')\n",
        "plt.savefig('/content/drive/My Drive/basura/mode_2400/loss.png')\n",
        "plt.show()  \n"
      ],
      "execution_count": null,
      "outputs": [
        {
          "output_type": "display_data",
          "data": {
            "image/png": "[encoded data removed]",
            "text/plain": [
              "<Figure size 432x288 with 1 Axes>"
            ]
          },
          "metadata": {
            "tags": [],
            "needs_background": "light"
          }
        }
      ]
    },
    {
      "cell_type": "code",
      "metadata": {
        "id": "ptcyQQNwu95p",
        "colab": {
          "base_uri": "https://localhost:8080/",
          "height": 1000
        },
        "outputId": "7ec42012-8421-4087-f0fe-ef841d6ee1c5"
      },
      "source": [
        "json_file2= open('/content/drive/My Drive/basura/mode_2400/model_t.json','r')\n",
        "loaded_model_json2= json_file2.read()\n",
        "json_file2.close()\n",
        "loaded_model2= tf.keras.models.model_from_json(loaded_model_json2)\n",
        "# cargar pesos al nuevo modelo\n",
        "loaded_model2.load_weights('/content/drive/My Drive/basura/mode_2400/model_last.h5')\n",
        "print(\"Cargado modelo desde disco.\")\n",
        "X_valid=np.array(X_valid)\n",
        "with tf.device('/device:GPU:0'):\n",
        "\n",
        "  # Compilar modelo cargado y listo para usar.\n",
        "  loaded_model2.compile(loss='categorical_crossentropy', optimizer='adam', metrics=['accuracy'])\n",
        "  ynew2= np.around(loaded_model2.predict(X_valid))\n",
        "  for i,j in enumerate(ynew2):\n",
        "    print(i,j)\n"
      ],
      "execution_count": null,
      "outputs": [
        {
          "output_type": "stream",
          "text": [
            "Cargado modelo desde disco.\n",
            "0 [0. 0. 0. 0. 0. 0.]\n",
            "1 [1. 0. 0. 0. 0. 0.]\n",
            "2 [0. 0. 0. 0. 0. 0.]\n",
            "3 [1. 0. 0. 0. 0. 0.]\n",
            "4 [1. 0. 0. 0. 0. 0.]\n",
            "5 [1. 0. 0. 0. 0. 0.]\n",
            "6 [0. 0. 0. 0. 0. 0.]\n",
            "7 [1. 0. 0. 0. 0. 0.]\n",
            "8 [1. 0. 0. 0. 0. 0.]\n",
            "9 [1. 0. 0. 0. 0. 0.]\n",
            "10 [0. 0. 1. 0. 0. 0.]\n",
            "11 [0. 0. 0. 0. 0. 0.]\n",
            "12 [0. 0. 0. 0. 0. 0.]\n",
            "13 [0. 0. 0. 0. 0. 0.]\n",
            "14 [0. 0. 0. 0. 0. 0.]\n",
            "15 [0. 1. 0. 0. 0. 0.]\n",
            "16 [0. 0. 0. 0. 0. 0.]\n",
            "17 [0. 0. 1. 0. 0. 0.]\n",
            "18 [0. 0. 0. 0. 0. 0.]\n",
            "19 [0. 1. 0. 0. 0. 0.]\n",
            "20 [0. 0. 0. 1. 0. 0.]\n",
            "21 [0. 0. 0. 0. 0. 0.]\n",
            "22 [0. 0. 0. 0. 0. 0.]\n",
            "23 [0. 0. 1. 0. 0. 0.]\n",
            "24 [0. 0. 1. 0. 0. 0.]\n",
            "25 [0. 1. 0. 0. 0. 0.]\n",
            "26 [0. 0. 0. 0. 0. 0.]\n",
            "27 [0. 0. 1. 0. 0. 0.]\n",
            "28 [0. 0. 0. 0. 0. 0.]\n",
            "29 [0. 0. 0. 0. 0. 0.]\n",
            "30 [0. 0. 0. 1. 0. 0.]\n",
            "31 [0. 0. 0. 1. 0. 0.]\n",
            "32 [0. 0. 0. 1. 0. 0.]\n",
            "33 [0. 0. 0. 1. 0. 0.]\n",
            "34 [0. 0. 0. 1. 0. 0.]\n",
            "35 [0. 0. 0. 1. 0. 0.]\n",
            "36 [0. 0. 0. 1. 0. 0.]\n",
            "37 [0. 0. 0. 1. 0. 0.]\n",
            "38 [0. 0. 0. 1. 0. 0.]\n",
            "39 [0. 0. 0. 1. 0. 0.]\n",
            "40 [0. 1. 0. 0. 0. 0.]\n",
            "41 [0. 0. 0. 0. 1. 0.]\n",
            "42 [0. 0. 0. 0. 1. 0.]\n",
            "43 [0. 0. 0. 0. 1. 0.]\n",
            "44 [0. 0. 0. 0. 0. 0.]\n",
            "45 [0. 0. 0. 0. 1. 0.]\n",
            "46 [0. 0. 0. 0. 1. 0.]\n",
            "47 [0. 0. 0. 0. 0. 0.]\n",
            "48 [0. 0. 0. 0. 0. 0.]\n",
            "49 [0. 0. 0. 0. 1. 0.]\n",
            "50 [0. 0. 0. 0. 0. 0.]\n",
            "51 [0. 0. 0. 0. 0. 0.]\n",
            "52 [0. 0. 0. 0. 0. 1.]\n",
            "53 [0. 0. 1. 0. 0. 0.]\n",
            "54 [0. 0. 0. 0. 0. 0.]\n",
            "55 [0. 0. 0. 0. 0. 1.]\n",
            "56 [0. 0. 0. 0. 0. 0.]\n",
            "57 [0. 0. 0. 0. 0. 1.]\n",
            "58 [0. 0. 0. 0. 0. 1.]\n",
            "59 [0. 0. 0. 0. 0. 1.]\n"
          ],
          "name": "stdout"
        }
      ]
    },
    {
      "cell_type": "code",
      "metadata": {
        "id": "sRgw194V18bH",
        "colab": {
          "base_uri": "https://localhost:8080/",
          "height": 433
        },
        "outputId": "8c14ad59-8484-4dbf-931d-425a35066910"
      },
      "source": [
        "import pandas as pd\n",
        "from itertools import product\n",
        "from sklearn.metrics import classification_report, confusion_matrix\n",
        "import numpy as np\n",
        "\n",
        "y_test_non_category = Y_valid\n",
        "y_predict2= [ np.argmax(t) for t in ynew2 ]\n",
        "cf2= confusion_matrix(y_test_non_category,y_predict2)\n",
        "print(cf2)\n",
        "\n",
        "\n",
        "print(np.bincount(y_predict2))\n",
        "\n",
        "exp_series2= pd.Series(Y_valid)\n",
        "pred_series2=pd.Series(y_predict2)\n",
        "\n",
        "plt.imshow(cf2,cmap=plt.cm.Blues,interpolation='nearest')\n",
        "plt.colorbar()\n",
        "plt.title('Confusion Matrix of Solid Waste - Validation')\n",
        "plt.xlabel('Predicted')\n",
        "plt.ylabel('Actual')\n",
        "tick_marks = np.arange(len(set(exp_series2))) # length of classes\n",
        "class_labels = ['Cardboard','Glass','Metal','Paper','Plastic','Rubbish']\n",
        "tick_marks\n",
        "plt.xticks(tick_marks,class_labels,rotation=-22)\n",
        "plt.yticks(tick_marks,class_labels)\n",
        "# plotting text value inside cells\n",
        "thresh = cf2.max() / 2.\n",
        "for i,j in product(range(cf2.shape[0]),range(cf2.shape[1])):\n",
        "    plt.text(j,i,format(cf2[i,j],'d'),horizontalalignment='center',color='white' if cf2[i,j] >thresh else 'black')\n",
        "plt.savefig('/content/drive/My Drive/basura/mode_2400/matrix_confusion_validacion.png',dpi=100)\n",
        "plt.show();"
      ],
      "execution_count": null,
      "outputs": [
        {
          "output_type": "stream",
          "text": [
            "[[10  0  0  0  0  0]\n",
            " [ 6  2  2  0  0  0]\n",
            " [ 5  1  3  1  0  0]\n",
            " [ 0  0  0 10  0  0]\n",
            " [ 3  1  0  0  6  0]\n",
            " [ 4  0  1  0  0  5]]\n",
            "[28  4  6 11  6  5]\n"
          ],
          "name": "stdout"
        },
        {
          "output_type": "display_data",
          "data": {
            "image/png": "[encoded data removed]",
            "text/plain": [
              "<Figure size 432x288 with 2 Axes>"
            ]
          },
          "metadata": {
            "tags": [],
            "needs_background": "light"
          }
        }
      ]
    }
  ]
}